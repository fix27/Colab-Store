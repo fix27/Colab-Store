{
  "nbformat": 4,
  "nbformat_minor": 0,
  "metadata": {
    "colab": {
      "name": "GPU Details.ipynb",
      "provenance": [],
      "collapsed_sections": [],
      "authorship_tag": "ABX9TyMNVwUwUh9g/ktpePPTabOC",
      "include_colab_link": true
    },
    "kernelspec": {
      "name": "python3",
      "display_name": "Python 3"
    },
    "accelerator": "GPU"
  },
  "cells": [
    {
      "cell_type": "markdown",
      "metadata": {
        "id": "view-in-github",
        "colab_type": "text"
      },
      "source": [
        "<a href=\"https://colab.research.google.com/github/fix27/Colab-Store/blob/main/GPU_Details.ipynb\" target=\"_parent\"><img src=\"https://colab.research.google.com/assets/colab-badge.svg\" alt=\"Open In Colab\"/></a>"
      ]
    },
    {
      "cell_type": "code",
      "metadata": {
        "id": "38GiLtNtnRtZ",
        "outputId": "489a493c-2966-4b43-8be7-bdb505231b63",
        "colab": {
          "base_uri": "https://localhost:8080/"
        }
      },
      "source": [
        "!pip3 install gputil\n",
        "!pip3 install tabulate\n",
        "# GPU information\n",
        "import GPUtil\n",
        "from tabulate import tabulate\n",
        "print(\"=\"*40, \"GPU Details\", \"=\"*40)\n",
        "gpus = GPUtil.getGPUs()\n",
        "list_gpus = []\n",
        "for gpu in gpus:\n",
        "    # get the GPU id\n",
        "    gpu_id = gpu.id\n",
        "    # name of GPU\n",
        "    gpu_name = gpu.name\n",
        "    # get % percentage of GPU usage of that GPU\n",
        "    gpu_load = f\"{gpu.load*100}%\"\n",
        "    # get free memory in MB format\n",
        "    gpu_free_memory = f\"{gpu.memoryFree}MB\"\n",
        "    # get used memory\n",
        "    gpu_used_memory = f\"{gpu.memoryUsed}MB\"\n",
        "    # get total memory\n",
        "    gpu_total_memory = f\"{gpu.memoryTotal}MB\"\n",
        "    # get GPU temperature in Celsius\n",
        "    gpu_temperature = f\"{gpu.temperature} °C\"\n",
        "    gpu_uuid = gpu.uuid\n",
        "    list_gpus.append((\n",
        "        gpu_id, gpu_name, gpu_load, gpu_free_memory, gpu_used_memory,\n",
        "        gpu_total_memory, gpu_temperature, gpu_uuid\n",
        "    ))\n",
        "\n",
        "print(tabulate(list_gpus, headers=(\"id\", \"name\", \"load\", \"free memory\", \"used memory\", \"total memory\",\n",
        "                                   \"temperature\", \"uuid\")))"
      ],
      "execution_count": 2,
      "outputs": [
        {
          "output_type": "stream",
          "text": [
            "Requirement already satisfied: gputil in /usr/local/lib/python3.6/dist-packages (1.4.0)\n",
            "Requirement already satisfied: tabulate in /usr/local/lib/python3.6/dist-packages (0.8.7)\n",
            "======================================== GPU Details ========================================\n",
            "  id  name      load    free memory    used memory    total memory    temperature    uuid\n",
            "----  --------  ------  -------------  -------------  --------------  -------------  ----------------------------------------\n",
            "   0  Tesla T4  0.0%    15079.0MB      0.0MB          15079.0MB       54.0 °C        GPU-567f63f8-91cc-f27e-8bf1-9ca81d0a12b3\n"
          ],
          "name": "stdout"
        }
      ]
    }
  ]
}