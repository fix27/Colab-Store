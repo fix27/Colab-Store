{
  "nbformat": 4,
  "nbformat_minor": 0,
  "metadata": {
    "kernelspec": {
      "display_name": "Python 3",
      "language": "python",
      "name": "python3"
    },
    "language_info": {
      "codemirror_mode": {
        "name": "ipython",
        "version": 3
      },
      "file_extension": ".py",
      "mimetype": "text/x-python",
      "name": "python",
      "nbconvert_exporter": "python",
      "pygments_lexer": "ipython3",
      "version": "3.6.5"
    },
    "colab": {
      "name": "nnet_forecast_1.ipynb",
      "provenance": [],
      "include_colab_link": true
    }
  },
  "cells": [
    {
      "cell_type": "markdown",
      "metadata": {
        "id": "view-in-github",
        "colab_type": "text"
      },
      "source": [
        "<a href=\"https://colab.research.google.com/github/fix27/Colab-Store/blob/main/nnet_forecast_1.ipynb\" target=\"_parent\"><img src=\"https://colab.research.google.com/assets/colab-badge.svg\" alt=\"Open In Colab\"/></a>"
      ]
    },
    {
      "cell_type": "code",
      "metadata": {
        "id": "zymE1-J0X-a7"
      },
      "source": [
        "# Импорт библиотек\n",
        "import numpy\n",
        "import pandas as pd"
      ],
      "execution_count": null,
      "outputs": []
    },
    {
      "cell_type": "code",
      "metadata": {
        "id": "U_GaREQ3X-bB"
      },
      "source": [
        "# Импорт matplotlib\n",
        "\n",
        "import matplotlib\n",
        "import matplotlib.pyplot as plt\n",
        "matplotlib.style.use('ggplot')\n",
        "%matplotlib inline"
      ],
      "execution_count": null,
      "outputs": []
    },
    {
      "cell_type": "code",
      "metadata": {
        "id": "8oz-LCgWX-bD"
      },
      "source": [
        "# Задаем рабочую папку\n",
        "\n",
        "import os\n",
        "os.chdir(\"C:/Users/USER/Documents/Python/_Python_part_2/Lecture_4_02/monthly car sales in Quebec\")\n"
      ],
      "execution_count": null,
      "outputs": []
    },
    {
      "cell_type": "code",
      "metadata": {
        "id": "AkszGlzgX-bF"
      },
      "source": [
        "# Импорт обучающей выборки\n",
        "sales = pd.read_csv('monthly-car-sales-in-quebec-1960.csv', sep=';', header=0, parse_dates=[0])\n"
      ],
      "execution_count": null,
      "outputs": []
    },
    {
      "cell_type": "code",
      "metadata": {
        "id": "hjn1-Uj_X-bI",
        "outputId": "eb17ff67-97d3-4997-ab97-773ddd26e455"
      },
      "source": [
        "#  Знакомимся с данными\n",
        "sales.head()"
      ],
      "execution_count": null,
      "outputs": [
        {
          "output_type": "execute_result",
          "data": {
            "text/html": [
              "<div>\n",
              "<style scoped>\n",
              "    .dataframe tbody tr th:only-of-type {\n",
              "        vertical-align: middle;\n",
              "    }\n",
              "\n",
              "    .dataframe tbody tr th {\n",
              "        vertical-align: top;\n",
              "    }\n",
              "\n",
              "    .dataframe thead th {\n",
              "        text-align: right;\n",
              "    }\n",
              "</style>\n",
              "<table border=\"1\" class=\"dataframe\">\n",
              "  <thead>\n",
              "    <tr style=\"text-align: right;\">\n",
              "      <th></th>\n",
              "      <th>Month</th>\n",
              "      <th>Monthly car sales in Quebec 1960-1968</th>\n",
              "    </tr>\n",
              "  </thead>\n",
              "  <tbody>\n",
              "    <tr>\n",
              "      <th>0</th>\n",
              "      <td>1960-01-01</td>\n",
              "      <td>6550</td>\n",
              "    </tr>\n",
              "    <tr>\n",
              "      <th>1</th>\n",
              "      <td>1960-02-01</td>\n",
              "      <td>8728</td>\n",
              "    </tr>\n",
              "    <tr>\n",
              "      <th>2</th>\n",
              "      <td>1960-03-01</td>\n",
              "      <td>12026</td>\n",
              "    </tr>\n",
              "    <tr>\n",
              "      <th>3</th>\n",
              "      <td>1960-04-01</td>\n",
              "      <td>14395</td>\n",
              "    </tr>\n",
              "    <tr>\n",
              "      <th>4</th>\n",
              "      <td>1960-05-01</td>\n",
              "      <td>14587</td>\n",
              "    </tr>\n",
              "  </tbody>\n",
              "</table>\n",
              "</div>"
            ],
            "text/plain": [
              "       Month  Monthly car sales in Quebec 1960-1968\n",
              "0 1960-01-01                                   6550\n",
              "1 1960-02-01                                   8728\n",
              "2 1960-03-01                                  12026\n",
              "3 1960-04-01                                  14395\n",
              "4 1960-05-01                                  14587"
            ]
          },
          "metadata": {
            "tags": []
          },
          "execution_count": 52
        }
      ]
    },
    {
      "cell_type": "code",
      "metadata": {
        "id": "DeoCSn-iX-bL",
        "outputId": "c43e664f-c312-4411-c4fd-d229e77277ac"
      },
      "source": [
        "#  Знакомимся с данными\n",
        "sales.shape"
      ],
      "execution_count": null,
      "outputs": [
        {
          "output_type": "execute_result",
          "data": {
            "text/plain": [
              "(108, 2)"
            ]
          },
          "metadata": {
            "tags": []
          },
          "execution_count": 53
        }
      ]
    },
    {
      "cell_type": "code",
      "metadata": {
        "id": "vJ9tfOxoX-bN",
        "outputId": "b7448d2b-ee6d-444f-b24d-98f9499e571b"
      },
      "source": [
        "#  Знакомимся с данными\n",
        "sales.tail()"
      ],
      "execution_count": null,
      "outputs": [
        {
          "output_type": "execute_result",
          "data": {
            "text/html": [
              "<div>\n",
              "<style scoped>\n",
              "    .dataframe tbody tr th:only-of-type {\n",
              "        vertical-align: middle;\n",
              "    }\n",
              "\n",
              "    .dataframe tbody tr th {\n",
              "        vertical-align: top;\n",
              "    }\n",
              "\n",
              "    .dataframe thead th {\n",
              "        text-align: right;\n",
              "    }\n",
              "</style>\n",
              "<table border=\"1\" class=\"dataframe\">\n",
              "  <thead>\n",
              "    <tr style=\"text-align: right;\">\n",
              "      <th></th>\n",
              "      <th>Month</th>\n",
              "      <th>Monthly car sales in Quebec 1960-1968</th>\n",
              "    </tr>\n",
              "  </thead>\n",
              "  <tbody>\n",
              "    <tr>\n",
              "      <th>103</th>\n",
              "      <td>1968-08-01</td>\n",
              "      <td>16722</td>\n",
              "    </tr>\n",
              "    <tr>\n",
              "      <th>104</th>\n",
              "      <td>1968-09-01</td>\n",
              "      <td>14385</td>\n",
              "    </tr>\n",
              "    <tr>\n",
              "      <th>105</th>\n",
              "      <td>1968-10-01</td>\n",
              "      <td>21342</td>\n",
              "    </tr>\n",
              "    <tr>\n",
              "      <th>106</th>\n",
              "      <td>1968-11-01</td>\n",
              "      <td>17180</td>\n",
              "    </tr>\n",
              "    <tr>\n",
              "      <th>107</th>\n",
              "      <td>1968-12-01</td>\n",
              "      <td>14577</td>\n",
              "    </tr>\n",
              "  </tbody>\n",
              "</table>\n",
              "</div>"
            ],
            "text/plain": [
              "         Month  Monthly car sales in Quebec 1960-1968\n",
              "103 1968-08-01                                  16722\n",
              "104 1968-09-01                                  14385\n",
              "105 1968-10-01                                  21342\n",
              "106 1968-11-01                                  17180\n",
              "107 1968-12-01                                  14577"
            ]
          },
          "metadata": {
            "tags": []
          },
          "execution_count": 54
        }
      ]
    },
    {
      "cell_type": "code",
      "metadata": {
        "id": "5fTCq0_4X-bS",
        "outputId": "3a5af62c-2d00-47f7-acce-898a80e7b70b"
      },
      "source": [
        "#  График, чтобы ответить на 4 вопроса\n",
        "sales.iloc[:,1].plot()\n"
      ],
      "execution_count": null,
      "outputs": [
        {
          "output_type": "execute_result",
          "data": {
            "text/plain": [
              "<matplotlib.axes._subplots.AxesSubplot at 0x21798367da0>"
            ]
          },
          "metadata": {
            "tags": []
          },
          "execution_count": 56
        },
        {
          "output_type": "display_data",
          "data": {
            "image/png": "[encoded data removed]",
            "text/plain": [
              "<Figure size 432x288 with 1 Axes>"
            ]
          },
          "metadata": {
            "tags": []
          }
        }
      ]
    },
    {
      "cell_type": "code",
      "metadata": {
        "id": "8FsAoQ3YX-bU",
        "outputId": "52202f05-9aca-4e22-b915-1c0e08f33f5b"
      },
      "source": [
        "# Преобразуем данные\n",
        "sales_2 = pd.DataFrame()\n",
        "\n",
        "for i in range(12,0,-1):\n",
        "    sales_2['t-'+str(i)] = sales.iloc[:,1].shift(i)\n",
        "\n",
        "sales_2['t'] = sales.iloc[:,1].values\n",
        "\n",
        "print(sales_2.head(13))\n",
        "\n",
        "\n"
      ],
      "execution_count": null,
      "outputs": [
        {
          "output_type": "stream",
          "text": [
            "      t-12    t-11     t-10      t-9      t-8      t-7      t-6      t-5  \\\n",
            "0      NaN     NaN      NaN      NaN      NaN      NaN      NaN      NaN   \n",
            "1      NaN     NaN      NaN      NaN      NaN      NaN      NaN      NaN   \n",
            "2      NaN     NaN      NaN      NaN      NaN      NaN      NaN      NaN   \n",
            "3      NaN     NaN      NaN      NaN      NaN      NaN      NaN      NaN   \n",
            "4      NaN     NaN      NaN      NaN      NaN      NaN      NaN      NaN   \n",
            "5      NaN     NaN      NaN      NaN      NaN      NaN      NaN   6550.0   \n",
            "6      NaN     NaN      NaN      NaN      NaN      NaN   6550.0   8728.0   \n",
            "7      NaN     NaN      NaN      NaN      NaN   6550.0   8728.0  12026.0   \n",
            "8      NaN     NaN      NaN      NaN   6550.0   8728.0  12026.0  14395.0   \n",
            "9      NaN     NaN      NaN   6550.0   8728.0  12026.0  14395.0  14587.0   \n",
            "10     NaN     NaN   6550.0   8728.0  12026.0  14395.0  14587.0  13791.0   \n",
            "11     NaN  6550.0   8728.0  12026.0  14395.0  14587.0  13791.0   9498.0   \n",
            "12  6550.0  8728.0  12026.0  14395.0  14587.0  13791.0   9498.0   8251.0   \n",
            "\n",
            "        t-4      t-3      t-2      t-1      t  \n",
            "0       NaN      NaN      NaN      NaN   6550  \n",
            "1       NaN      NaN      NaN   6550.0   8728  \n",
            "2       NaN      NaN   6550.0   8728.0  12026  \n",
            "3       NaN   6550.0   8728.0  12026.0  14395  \n",
            "4    6550.0   8728.0  12026.0  14395.0  14587  \n",
            "5    8728.0  12026.0  14395.0  14587.0  13791  \n",
            "6   12026.0  14395.0  14587.0  13791.0   9498  \n",
            "7   14395.0  14587.0  13791.0   9498.0   8251  \n",
            "8   14587.0  13791.0   9498.0   8251.0   7049  \n",
            "9   13791.0   9498.0   8251.0   7049.0   9545  \n",
            "10   9498.0   8251.0   7049.0   9545.0   9364  \n",
            "11   8251.0   7049.0   9545.0   9364.0   8456  \n",
            "12   7049.0   9545.0   9364.0   8456.0   7237  \n"
          ],
          "name": "stdout"
        }
      ]
    },
    {
      "cell_type": "code",
      "metadata": {
        "id": "xadbC2T9X-bW",
        "outputId": "50087806-dbdc-4ee9-fea6-b7a3b53b371f"
      },
      "source": [
        "#  Отрезаем первые 12 строк\n",
        "sales_4 = sales_2[12:]\n",
        "\n",
        "sales_4.head()"
      ],
      "execution_count": null,
      "outputs": [
        {
          "output_type": "execute_result",
          "data": {
            "text/html": [
              "<div>\n",
              "<style scoped>\n",
              "    .dataframe tbody tr th:only-of-type {\n",
              "        vertical-align: middle;\n",
              "    }\n",
              "\n",
              "    .dataframe tbody tr th {\n",
              "        vertical-align: top;\n",
              "    }\n",
              "\n",
              "    .dataframe thead th {\n",
              "        text-align: right;\n",
              "    }\n",
              "</style>\n",
              "<table border=\"1\" class=\"dataframe\">\n",
              "  <thead>\n",
              "    <tr style=\"text-align: right;\">\n",
              "      <th></th>\n",
              "      <th>t-12</th>\n",
              "      <th>t-11</th>\n",
              "      <th>t-10</th>\n",
              "      <th>t-9</th>\n",
              "      <th>t-8</th>\n",
              "      <th>t-7</th>\n",
              "      <th>t-6</th>\n",
              "      <th>t-5</th>\n",
              "      <th>t-4</th>\n",
              "      <th>t-3</th>\n",
              "      <th>t-2</th>\n",
              "      <th>t-1</th>\n",
              "      <th>t</th>\n",
              "    </tr>\n",
              "  </thead>\n",
              "  <tbody>\n",
              "    <tr>\n",
              "      <th>12</th>\n",
              "      <td>6550.0</td>\n",
              "      <td>8728.0</td>\n",
              "      <td>12026.0</td>\n",
              "      <td>14395.0</td>\n",
              "      <td>14587.0</td>\n",
              "      <td>13791.0</td>\n",
              "      <td>9498.0</td>\n",
              "      <td>8251.0</td>\n",
              "      <td>7049.0</td>\n",
              "      <td>9545.0</td>\n",
              "      <td>9364.0</td>\n",
              "      <td>8456.0</td>\n",
              "      <td>7237</td>\n",
              "    </tr>\n",
              "    <tr>\n",
              "      <th>13</th>\n",
              "      <td>8728.0</td>\n",
              "      <td>12026.0</td>\n",
              "      <td>14395.0</td>\n",
              "      <td>14587.0</td>\n",
              "      <td>13791.0</td>\n",
              "      <td>9498.0</td>\n",
              "      <td>8251.0</td>\n",
              "      <td>7049.0</td>\n",
              "      <td>9545.0</td>\n",
              "      <td>9364.0</td>\n",
              "      <td>8456.0</td>\n",
              "      <td>7237.0</td>\n",
              "      <td>9374</td>\n",
              "    </tr>\n",
              "    <tr>\n",
              "      <th>14</th>\n",
              "      <td>12026.0</td>\n",
              "      <td>14395.0</td>\n",
              "      <td>14587.0</td>\n",
              "      <td>13791.0</td>\n",
              "      <td>9498.0</td>\n",
              "      <td>8251.0</td>\n",
              "      <td>7049.0</td>\n",
              "      <td>9545.0</td>\n",
              "      <td>9364.0</td>\n",
              "      <td>8456.0</td>\n",
              "      <td>7237.0</td>\n",
              "      <td>9374.0</td>\n",
              "      <td>11837</td>\n",
              "    </tr>\n",
              "    <tr>\n",
              "      <th>15</th>\n",
              "      <td>14395.0</td>\n",
              "      <td>14587.0</td>\n",
              "      <td>13791.0</td>\n",
              "      <td>9498.0</td>\n",
              "      <td>8251.0</td>\n",
              "      <td>7049.0</td>\n",
              "      <td>9545.0</td>\n",
              "      <td>9364.0</td>\n",
              "      <td>8456.0</td>\n",
              "      <td>7237.0</td>\n",
              "      <td>9374.0</td>\n",
              "      <td>11837.0</td>\n",
              "      <td>13784</td>\n",
              "    </tr>\n",
              "    <tr>\n",
              "      <th>16</th>\n",
              "      <td>14587.0</td>\n",
              "      <td>13791.0</td>\n",
              "      <td>9498.0</td>\n",
              "      <td>8251.0</td>\n",
              "      <td>7049.0</td>\n",
              "      <td>9545.0</td>\n",
              "      <td>9364.0</td>\n",
              "      <td>8456.0</td>\n",
              "      <td>7237.0</td>\n",
              "      <td>9374.0</td>\n",
              "      <td>11837.0</td>\n",
              "      <td>13784.0</td>\n",
              "      <td>15926</td>\n",
              "    </tr>\n",
              "  </tbody>\n",
              "</table>\n",
              "</div>"
            ],
            "text/plain": [
              "       t-12     t-11     t-10      t-9      t-8      t-7     t-6     t-5  \\\n",
              "12   6550.0   8728.0  12026.0  14395.0  14587.0  13791.0  9498.0  8251.0   \n",
              "13   8728.0  12026.0  14395.0  14587.0  13791.0   9498.0  8251.0  7049.0   \n",
              "14  12026.0  14395.0  14587.0  13791.0   9498.0   8251.0  7049.0  9545.0   \n",
              "15  14395.0  14587.0  13791.0   9498.0   8251.0   7049.0  9545.0  9364.0   \n",
              "16  14587.0  13791.0   9498.0   8251.0   7049.0   9545.0  9364.0  8456.0   \n",
              "\n",
              "       t-4     t-3      t-2      t-1      t  \n",
              "12  7049.0  9545.0   9364.0   8456.0   7237  \n",
              "13  9545.0  9364.0   8456.0   7237.0   9374  \n",
              "14  9364.0  8456.0   7237.0   9374.0  11837  \n",
              "15  8456.0  7237.0   9374.0  11837.0  13784  \n",
              "16  7237.0  9374.0  11837.0  13784.0  15926  "
            ]
          },
          "metadata": {
            "tags": []
          },
          "execution_count": 59
        }
      ]
    },
    {
      "cell_type": "code",
      "metadata": {
        "id": "h186-SbrX-bZ"
      },
      "source": [
        "#  предикторы и отклик разделяем\n",
        "# Отклик - группирующая переменная -  вектор y\n",
        "y = sales_4['t']\n",
        "# Предикторы - таблица X\n",
        "X = sales_4.drop('t', axis=1)"
      ],
      "execution_count": null,
      "outputs": []
    },
    {
      "cell_type": "code",
      "metadata": {
        "id": "ojwy5eVKX-bb"
      },
      "source": [
        "#  Разделяем на обучающую и тестовую выборки\n",
        "#  Тестовая - последние наблюдения\n",
        "X_train = X[:91]\n",
        "y_train = y[:91]\n",
        "X_test  = X[91:]\n",
        "y_test  = y[91:]"
      ],
      "execution_count": null,
      "outputs": []
    },
    {
      "cell_type": "code",
      "metadata": {
        "id": "5AnVY-cbX-bd",
        "outputId": "1869c97a-9ae1-4b9d-b42e-6effbc90b8e3"
      },
      "source": [
        "#  Все хорошо?\n",
        "print(sales_4.shape)\n",
        "print(X_train.shape)\n",
        "print(y_train.shape)\n",
        "print(X_test.shape)\n",
        "print(y_test.shape)"
      ],
      "execution_count": null,
      "outputs": [
        {
          "output_type": "stream",
          "text": [
            "(91, 12)\n",
            "(91,)\n",
            "(5, 12)\n",
            "(5,)\n"
          ],
          "name": "stdout"
        }
      ]
    },
    {
      "cell_type": "code",
      "metadata": {
        "id": "54gluu8pX-bm",
        "outputId": "6dd2e8fe-991e-4e45-f00c-3189659cb844"
      },
      "source": [
        "#  Все хорошо?\n",
        "print(X_train.head(5))"
      ],
      "execution_count": null,
      "outputs": [
        {
          "output_type": "stream",
          "text": [
            "       t-12     t-11     t-10      t-9      t-8      t-7     t-6     t-5  \\\n",
            "12   6550.0   8728.0  12026.0  14395.0  14587.0  13791.0  9498.0  8251.0   \n",
            "13   8728.0  12026.0  14395.0  14587.0  13791.0   9498.0  8251.0  7049.0   \n",
            "14  12026.0  14395.0  14587.0  13791.0   9498.0   8251.0  7049.0  9545.0   \n",
            "15  14395.0  14587.0  13791.0   9498.0   8251.0   7049.0  9545.0  9364.0   \n",
            "16  14587.0  13791.0   9498.0   8251.0   7049.0   9545.0  9364.0  8456.0   \n",
            "\n",
            "       t-4     t-3      t-2      t-1  \n",
            "12  7049.0  9545.0   9364.0   8456.0  \n",
            "13  9545.0  9364.0   8456.0   7237.0  \n",
            "14  9364.0  8456.0   7237.0   9374.0  \n",
            "15  8456.0  7237.0   9374.0  11837.0  \n",
            "16  7237.0  9374.0  11837.0  13784.0  \n"
          ],
          "name": "stdout"
        }
      ]
    },
    {
      "cell_type": "code",
      "metadata": {
        "id": "YsmZyE7PX-bo"
      },
      "source": [
        "#  Преобразование pandas dataframe в numpy array\n",
        "X_train = X_train.values\n",
        "X_test = X_test.values\n",
        "y_train = y_train.values\n",
        "y_test = y_test.values\n"
      ],
      "execution_count": null,
      "outputs": []
    },
    {
      "cell_type": "code",
      "metadata": {
        "id": "UazLi1r_X-bq",
        "outputId": "66e89fd1-1f95-4fe4-e2fc-2dd21591bdc2"
      },
      "source": [
        "from keras.models import Sequential\n",
        "from keras.layers import Dense\n"
      ],
      "execution_count": null,
      "outputs": [
        {
          "output_type": "stream",
          "text": [
            "C:\\Users\\USER\\Anaconda3\\lib\\site-packages\\h5py\\__init__.py:36: FutureWarning: Conversion of the second argument of issubdtype from `float` to `np.floating` is deprecated. In future, it will be treated as `np.float64 == np.dtype(float).type`.\n",
            "  from ._conv import register_converters as _register_converters\n",
            "Using TensorFlow backend.\n"
          ],
          "name": "stderr"
        }
      ]
    },
    {
      "cell_type": "code",
      "metadata": {
        "id": "W9rk1TDkX-bs",
        "outputId": "cf0b99ae-38a0-41b2-b20f-fde0abb77c67"
      },
      "source": [
        "#  Обучение нейронной сети \n",
        "\n",
        "# Creating a model\n",
        "model = Sequential()\n",
        "model.add(Dense(8, input_dim=12, activation='relu'))\n",
        "model.add(Dense(1, activation='linear'))\n",
        "\n",
        "\n",
        "# Compiling model\n",
        "model.compile(loss='mean_squared_error', optimizer='adam', metrics=['mean_absolute_percentage_error'])\n",
        "\n",
        "\n",
        "# Training a model\n",
        "model.fit(X_train, y_train, epochs=300, batch_size=None)\n",
        "\n"
      ],
      "execution_count": null,
      "outputs": [
        {
          "output_type": "stream",
          "text": [
            "Epoch 1/300\n",
            "91/91 [==============================] - 0s 3ms/step - loss: 108496367.2967 - mean_absolute_percentage_error: 56.5563\n",
            "Epoch 2/300\n",
            "91/91 [==============================] - 0s 77us/step - loss: 90453147.1648 - mean_absolute_percentage_error: 50.1910\n",
            "Epoch 3/300\n",
            "91/91 [==============================] - 0s 77us/step - loss: 75136366.5934 - mean_absolute_percentage_error: 43.8720\n",
            "Epoch 4/300\n",
            "91/91 [==============================] - 0s 77us/step - loss: 60638790.2857 - mean_absolute_percentage_error: 38.4570\n",
            "Epoch 5/300\n",
            "91/91 [==============================] - 0s 88us/step - loss: 48566127.5165 - mean_absolute_percentage_error: 33.5977\n",
            "Epoch 6/300\n",
            "91/91 [==============================] - 0s 110us/step - loss: 39479112.5714 - mean_absolute_percentage_error: 30.3322\n",
            "Epoch 7/300\n",
            "91/91 [==============================] - 0s 88us/step - loss: 32997532.6593 - mean_absolute_percentage_error: 28.4704\n",
            "Epoch 8/300\n",
            "91/91 [==============================] - 0s 99us/step - loss: 28489582.2418 - mean_absolute_percentage_error: 27.6355\n",
            "Epoch 9/300\n",
            "91/91 [==============================] - 0s 66us/step - loss: 25928087.4286 - mean_absolute_percentage_error: 27.0684\n",
            "Epoch 10/300\n",
            "91/91 [==============================] - 0s 77us/step - loss: 23890582.2857 - mean_absolute_percentage_error: 26.9097\n",
            "Epoch 11/300\n",
            "91/91 [==============================] - 0s 77us/step - loss: 23661190.1319 - mean_absolute_percentage_error: 27.7136\n",
            "Epoch 12/300\n",
            "91/91 [==============================] - 0s 77us/step - loss: 23364052.8571 - mean_absolute_percentage_error: 28.1884\n",
            "Epoch 13/300\n",
            "91/91 [==============================] - 0s 77us/step - loss: 23523015.7143 - mean_absolute_percentage_error: 28.7454\n",
            "Epoch 14/300\n",
            "91/91 [==============================] - 0s 220us/step - loss: 23599083.3736 - mean_absolute_percentage_error: 29.0173\n",
            "Epoch 15/300\n",
            "91/91 [==============================] - 0s 99us/step - loss: 23444952.5934 - mean_absolute_percentage_error: 28.9667\n",
            "Epoch 16/300\n",
            "91/91 [==============================] - 0s 66us/step - loss: 23167670.9231 - mean_absolute_percentage_error: 28.7450\n",
            "Epoch 17/300\n",
            "91/91 [==============================] - 0s 66us/step - loss: 22788875.2967 - mean_absolute_percentage_error: 28.4065\n",
            "Epoch 18/300\n",
            "91/91 [==============================] - 0s 66us/step - loss: 22472737.6703 - mean_absolute_percentage_error: 28.0090\n",
            "Epoch 19/300\n",
            "91/91 [==============================] - 0s 77us/step - loss: 21965743.7363 - mean_absolute_percentage_error: 27.3730\n",
            "Epoch 20/300\n",
            "91/91 [==============================] - 0s 77us/step - loss: 21645221.2088 - mean_absolute_percentage_error: 26.8679\n",
            "Epoch 21/300\n",
            "91/91 [==============================] - 0s 55us/step - loss: 21377002.1099 - mean_absolute_percentage_error: 26.4195\n",
            "Epoch 22/300\n",
            "91/91 [==============================] - 0s 77us/step - loss: 21144973.8242 - mean_absolute_percentage_error: 26.0822\n",
            "Epoch 23/300\n",
            "91/91 [==============================] - 0s 88us/step - loss: 20943983.2418 - mean_absolute_percentage_error: 25.8088\n",
            "Epoch 24/300\n",
            "91/91 [==============================] - 0s 143us/step - loss: 20716608.9780 - mean_absolute_percentage_error: 25.5305\n",
            "Epoch 25/300\n",
            "91/91 [==============================] - 0s 154us/step - loss: 20523776.4176 - mean_absolute_percentage_error: 25.3963\n",
            "Epoch 26/300\n",
            "91/91 [==============================] - 0s 77us/step - loss: 20303719.9341 - mean_absolute_percentage_error: 25.2609\n",
            "Epoch 27/300\n",
            "91/91 [==============================] - 0s 77us/step - loss: 20084136.9890 - mean_absolute_percentage_error: 25.1266\n",
            "Epoch 28/300\n",
            "91/91 [==============================] - 0s 77us/step - loss: 19872814.1538 - mean_absolute_percentage_error: 24.9999\n",
            "Epoch 29/300\n",
            "91/91 [==============================] - 0s 77us/step - loss: 19678365.3187 - mean_absolute_percentage_error: 24.8835\n",
            "Epoch 30/300\n",
            "91/91 [==============================] - 0s 77us/step - loss: 19472489.6154 - mean_absolute_percentage_error: 24.7858\n",
            "Epoch 31/300\n",
            "91/91 [==============================] - 0s 66us/step - loss: 19257390.9011 - mean_absolute_percentage_error: 24.7109\n",
            "Epoch 32/300\n",
            "91/91 [==============================] - 0s 77us/step - loss: 19023952.8132 - mean_absolute_percentage_error: 24.5945\n",
            "Epoch 33/300\n",
            "91/91 [==============================] - 0s 55us/step - loss: 18824734.2308 - mean_absolute_percentage_error: 24.4856\n",
            "Epoch 34/300\n",
            "91/91 [==============================] - 0s 66us/step - loss: 18614674.6154 - mean_absolute_percentage_error: 24.3822\n",
            "Epoch 35/300\n",
            "91/91 [==============================] - 0s 154us/step - loss: 18413691.4945 - mean_absolute_percentage_error: 24.3005\n",
            "Epoch 36/300\n",
            "91/91 [==============================] - 0s 99us/step - loss: 18198449.7143 - mean_absolute_percentage_error: 24.1752\n",
            "Epoch 37/300\n",
            "91/91 [==============================] - 0s 77us/step - loss: 18022162.7692 - mean_absolute_percentage_error: 24.0258\n",
            "Epoch 38/300\n",
            "91/91 [==============================] - 0s 88us/step - loss: 17806304.4615 - mean_absolute_percentage_error: 23.8558\n",
            "Epoch 39/300\n",
            "91/91 [==============================] - 0s 88us/step - loss: 17612639.6374 - mean_absolute_percentage_error: 23.6967\n",
            "Epoch 40/300\n",
            "91/91 [==============================] - 0s 66us/step - loss: 17414116.1868 - mean_absolute_percentage_error: 23.5485\n",
            "Epoch 41/300\n",
            "91/91 [==============================] - 0s 88us/step - loss: 17217165.0110 - mean_absolute_percentage_error: 23.4203\n",
            "Epoch 42/300\n",
            "91/91 [==============================] - 0s 66us/step - loss: 17019910.5714 - mean_absolute_percentage_error: 23.3002\n",
            "Epoch 43/300\n",
            "91/91 [==============================] - 0s 77us/step - loss: 16830066.5385 - mean_absolute_percentage_error: 23.1927\n",
            "Epoch 44/300\n",
            "91/91 [==============================] - 0s 66us/step - loss: 16635668.4945 - mean_absolute_percentage_error: 23.0667\n",
            "Epoch 45/300\n",
            "91/91 [==============================] - 0s 99us/step - loss: 16445763.8352 - mean_absolute_percentage_error: 22.9116\n",
            "Epoch 46/300\n",
            "91/91 [==============================] - 0s 66us/step - loss: 16259042.4066 - mean_absolute_percentage_error: 22.7504\n",
            "Epoch 47/300\n",
            "91/91 [==============================] - 0s 66us/step - loss: 16067125.1868 - mean_absolute_percentage_error: 22.6113\n",
            "Epoch 48/300\n",
            "91/91 [==============================] - 0s 66us/step - loss: 15893856.2418 - mean_absolute_percentage_error: 22.4882\n",
            "Epoch 49/300\n",
            "91/91 [==============================] - 0s 66us/step - loss: 15717863.4835 - mean_absolute_percentage_error: 22.3654\n",
            "Epoch 50/300\n",
            "91/91 [==============================] - 0s 77us/step - loss: 15546292.9780 - mean_absolute_percentage_error: 22.2847\n",
            "Epoch 51/300\n",
            "91/91 [==============================] - 0s 66us/step - loss: 15367778.5055 - mean_absolute_percentage_error: 22.1795\n",
            "Epoch 52/300\n",
            "91/91 [==============================] - 0s 66us/step - loss: 15190887.8571 - mean_absolute_percentage_error: 22.0740\n",
            "Epoch 53/300\n",
            "91/91 [==============================] - 0s 66us/step - loss: 15000544.0549 - mean_absolute_percentage_error: 21.9518\n",
            "Epoch 54/300\n",
            "91/91 [==============================] - 0s 66us/step - loss: 14834374.7143 - mean_absolute_percentage_error: 21.8779\n",
            "Epoch 55/300\n",
            "91/91 [==============================] - 0s 66us/step - loss: 14647763.4176 - mean_absolute_percentage_error: 21.7614\n",
            "Epoch 56/300\n",
            "91/91 [==============================] - 0s 66us/step - loss: 14502351.4066 - mean_absolute_percentage_error: 21.6401\n",
            "Epoch 57/300\n",
            "91/91 [==============================] - 0s 66us/step - loss: 14315738.9231 - mean_absolute_percentage_error: 21.5099\n",
            "Epoch 58/300\n",
            "91/91 [==============================] - 0s 77us/step - loss: 14165239.4066 - mean_absolute_percentage_error: 21.4007\n",
            "Epoch 59/300\n",
            "91/91 [==============================] - 0s 88us/step - loss: 14013383.0989 - mean_absolute_percentage_error: 21.2455\n",
            "Epoch 60/300\n",
            "91/91 [==============================] - 0s 187us/step - loss: 13827903.9560 - mean_absolute_percentage_error: 21.0853\n",
            "Epoch 61/300\n",
            "91/91 [==============================] - 0s 99us/step - loss: 13674060.3626 - mean_absolute_percentage_error: 20.9706\n",
            "Epoch 62/300\n",
            "91/91 [==============================] - 0s 77us/step - loss: 13501330.4066 - mean_absolute_percentage_error: 20.8539\n",
            "Epoch 63/300\n",
            "91/91 [==============================] - 0s 99us/step - loss: 13363298.7363 - mean_absolute_percentage_error: 20.7749\n",
            "Epoch 64/300\n",
            "91/91 [==============================] - 0s 77us/step - loss: 13199181.5385 - mean_absolute_percentage_error: 20.6693\n",
            "Epoch 65/300\n",
            "91/91 [==============================] - 0s 77us/step - loss: 13058174.0220 - mean_absolute_percentage_error: 20.5499\n",
            "Epoch 66/300\n",
            "91/91 [==============================] - 0s 66us/step - loss: 12902244.1868 - mean_absolute_percentage_error: 20.4703\n",
            "Epoch 67/300\n",
            "91/91 [==============================] - 0s 77us/step - loss: 12759697.9341 - mean_absolute_percentage_error: 20.3643\n",
            "Epoch 68/300\n",
            "91/91 [==============================] - 0s 66us/step - loss: 12607062.8791 - mean_absolute_percentage_error: 20.2157\n",
            "Epoch 69/300\n",
            "91/91 [==============================] - 0s 88us/step - loss: 12463917.7692 - mean_absolute_percentage_error: 20.0728\n",
            "Epoch 70/300\n",
            "91/91 [==============================] - 0s 77us/step - loss: 12348142.7033 - mean_absolute_percentage_error: 19.9436\n",
            "Epoch 71/300\n",
            "91/91 [==============================] - 0s 77us/step - loss: 12196197.2527 - mean_absolute_percentage_error: 19.8281\n",
            "Epoch 72/300\n",
            "91/91 [==============================] - 0s 66us/step - loss: 12038859.7143 - mean_absolute_percentage_error: 19.7215\n",
            "Epoch 73/300\n",
            "91/91 [==============================] - 0s 77us/step - loss: 11909700.1758 - mean_absolute_percentage_error: 19.6148\n",
            "Epoch 74/300\n",
            "91/91 [==============================] - 0s 99us/step - loss: 11760264.0440 - mean_absolute_percentage_error: 19.4952\n",
            "Epoch 75/300\n",
            "91/91 [==============================] - 0s 66us/step - loss: 11635568.4615 - mean_absolute_percentage_error: 19.4026\n",
            "Epoch 76/300\n",
            "91/91 [==============================] - 0s 88us/step - loss: 11499342.1538 - mean_absolute_percentage_error: 19.3075\n",
            "Epoch 77/300\n",
            "91/91 [==============================] - 0s 77us/step - loss: 11358902.4176 - mean_absolute_percentage_error: 19.1897\n",
            "Epoch 78/300\n",
            "91/91 [==============================] - 0s 66us/step - loss: 11255799.6044 - mean_absolute_percentage_error: 19.0800\n",
            "Epoch 79/300\n",
            "91/91 [==============================] - 0s 66us/step - loss: 11107163.7363 - mean_absolute_percentage_error: 18.9463\n",
            "Epoch 80/300\n",
            "91/91 [==============================] - 0s 66us/step - loss: 11003101.6813 - mean_absolute_percentage_error: 18.8850\n",
            "Epoch 81/300\n",
            "91/91 [==============================] - 0s 66us/step - loss: 10861799.3407 - mean_absolute_percentage_error: 18.7864\n",
            "Epoch 82/300\n",
            "91/91 [==============================] - 0s 121us/step - loss: 10740652.8681 - mean_absolute_percentage_error: 18.6866\n",
            "Epoch 83/300\n",
            "91/91 [==============================] - 0s 110us/step - loss: 10614226.2527 - mean_absolute_percentage_error: 18.5722\n",
            "Epoch 84/300\n",
            "91/91 [==============================] - 0s 66us/step - loss: 10487949.9451 - mean_absolute_percentage_error: 18.4344\n",
            "Epoch 85/300\n",
            "91/91 [==============================] - 0s 88us/step - loss: 10377335.4121 - mean_absolute_percentage_error: 18.3062\n",
            "Epoch 86/300\n",
            "91/91 [==============================] - 0s 77us/step - loss: 10263011.1978 - mean_absolute_percentage_error: 18.1858\n",
            "Epoch 87/300\n",
            "91/91 [==============================] - 0s 77us/step - loss: 10148884.4176 - mean_absolute_percentage_error: 18.0723\n",
            "Epoch 88/300\n",
            "91/91 [==============================] - 0s 66us/step - loss: 10043355.2802 - mean_absolute_percentage_error: 18.0053\n",
            "Epoch 89/300\n",
            "91/91 [==============================] - 0s 110us/step - loss: 9957922.1538 - mean_absolute_percentage_error: 17.9700\n",
            "Epoch 90/300\n",
            "91/91 [==============================] - 0s 77us/step - loss: 9805415.3077 - mean_absolute_percentage_error: 17.8818\n",
            "Epoch 91/300\n",
            "91/91 [==============================] - 0s 77us/step - loss: 9703429.0549 - mean_absolute_percentage_error: 17.7766\n",
            "Epoch 92/300\n",
            "91/91 [==============================] - 0s 66us/step - loss: 9593174.3626 - mean_absolute_percentage_error: 17.6665\n",
            "Epoch 93/300\n",
            "91/91 [==============================] - 0s 66us/step - loss: 9486545.6484 - mean_absolute_percentage_error: 17.5540\n",
            "Epoch 94/300\n",
            "91/91 [==============================] - 0s 77us/step - loss: 9391164.1099 - mean_absolute_percentage_error: 17.4580\n",
            "Epoch 95/300\n",
            "91/91 [==============================] - 0s 110us/step - loss: 9289055.6044 - mean_absolute_percentage_error: 17.3459\n",
            "Epoch 96/300\n",
            "91/91 [==============================] - 0s 77us/step - loss: 9184648.0220 - mean_absolute_percentage_error: 17.2439\n",
            "Epoch 97/300\n",
            "91/91 [==============================] - 0s 99us/step - loss: 9085326.9560 - mean_absolute_percentage_error: 17.1819\n",
            "Epoch 98/300\n",
            "91/91 [==============================] - 0s 154us/step - loss: 8996608.4835 - mean_absolute_percentage_error: 17.1301\n",
            "Epoch 99/300\n",
            "91/91 [==============================] - 0s 154us/step - loss: 8900170.2582 - mean_absolute_percentage_error: 17.0599\n",
            "Epoch 100/300\n",
            "91/91 [==============================] - 0s 110us/step - loss: 8826624.9011 - mean_absolute_percentage_error: 16.9488\n",
            "Epoch 101/300\n",
            "91/91 [==============================] - 0s 88us/step - loss: 8710397.0879 - mean_absolute_percentage_error: 16.8192\n",
            "Epoch 102/300\n",
            "91/91 [==============================] - 0s 110us/step - loss: 8617995.9505 - mean_absolute_percentage_error: 16.7334\n",
            "Epoch 103/300\n",
            "91/91 [==============================] - 0s 99us/step - loss: 8517129.4945 - mean_absolute_percentage_error: 16.6371\n",
            "Epoch 104/300\n",
            "91/91 [==============================] - 0s 88us/step - loss: 8430348.1319 - mean_absolute_percentage_error: 16.5909\n",
            "Epoch 105/300\n",
            "91/91 [==============================] - 0s 77us/step - loss: 8349925.5604 - mean_absolute_percentage_error: 16.5344\n",
            "Epoch 106/300\n",
            "91/91 [==============================] - 0s 66us/step - loss: 8263579.1978 - mean_absolute_percentage_error: 16.4418\n",
            "Epoch 107/300\n",
            "91/91 [==============================] - 0s 121us/step - loss: 8180225.8242 - mean_absolute_percentage_error: 16.3749\n",
            "Epoch 108/300\n",
            "91/91 [==============================] - 0s 121us/step - loss: 8090134.7308 - mean_absolute_percentage_error: 16.3031\n",
            "Epoch 109/300\n",
            "91/91 [==============================] - 0s 110us/step - loss: 8014451.1758 - mean_absolute_percentage_error: 16.2317\n",
            "Epoch 110/300\n",
            "91/91 [==============================] - 0s 99us/step - loss: 7926997.9780 - mean_absolute_percentage_error: 16.1347\n",
            "Epoch 111/300\n",
            "91/91 [==============================] - 0s 77us/step - loss: 7866948.5220 - mean_absolute_percentage_error: 16.0160\n",
            "Epoch 112/300\n",
            "91/91 [==============================] - 0s 99us/step - loss: 7770877.6868 - mean_absolute_percentage_error: 15.8792\n",
            "Epoch 113/300\n",
            "91/91 [==============================] - 0s 77us/step - loss: 7703763.3352 - mean_absolute_percentage_error: 15.7989\n",
            "Epoch 114/300\n",
            "91/91 [==============================] - 0s 99us/step - loss: 7614561.2637 - mean_absolute_percentage_error: 15.7298\n",
            "Epoch 115/300\n",
            "91/91 [==============================] - 0s 99us/step - loss: 7550279.2308 - mean_absolute_percentage_error: 15.6747\n",
            "Epoch 116/300\n",
            "91/91 [==============================] - 0s 99us/step - loss: 7499062.0879 - mean_absolute_percentage_error: 15.6550\n",
            "Epoch 117/300\n",
            "91/91 [==============================] - 0s 77us/step - loss: 7394811.4505 - mean_absolute_percentage_error: 15.6063\n",
            "Epoch 118/300\n",
            "91/91 [==============================] - 0s 110us/step - loss: 7331122.1429 - mean_absolute_percentage_error: 15.5459\n",
            "Epoch 119/300\n",
            "91/91 [==============================] - 0s 143us/step - loss: 7269424.8462 - mean_absolute_percentage_error: 15.4921\n",
            "Epoch 120/300\n",
            "91/91 [==============================] - 0s 99us/step - loss: 7206183.0440 - mean_absolute_percentage_error: 15.3978\n",
            "Epoch 121/300\n",
            "91/91 [==============================] - 0s 77us/step - loss: 7150070.1044 - mean_absolute_percentage_error: 15.3590\n",
            "Epoch 122/300\n",
            "91/91 [==============================] - 0s 77us/step - loss: 7070591.1319 - mean_absolute_percentage_error: 15.2771\n",
            "Epoch 123/300\n",
            "91/91 [==============================] - 0s 77us/step - loss: 7009682.7418 - mean_absolute_percentage_error: 15.1929\n",
            "Epoch 124/300\n",
            "91/91 [==============================] - 0s 77us/step - loss: 6957207.8626 - mean_absolute_percentage_error: 15.1188\n",
            "Epoch 125/300\n"
          ],
          "name": "stdout"
        },
        {
          "output_type": "stream",
          "text": [
            "91/91 [==============================] - 0s 66us/step - loss: 6903085.3956 - mean_absolute_percentage_error: 15.0860\n",
            "Epoch 126/300\n",
            "91/91 [==============================] - 0s 77us/step - loss: 6839766.2912 - mean_absolute_percentage_error: 15.0391\n",
            "Epoch 127/300\n",
            "91/91 [==============================] - 0s 66us/step - loss: 6783528.3242 - mean_absolute_percentage_error: 14.9805\n",
            "Epoch 128/300\n",
            "91/91 [==============================] - 0s 66us/step - loss: 6730076.9505 - mean_absolute_percentage_error: 14.9281\n",
            "Epoch 129/300\n",
            "91/91 [==============================] - 0s 66us/step - loss: 6685416.5110 - mean_absolute_percentage_error: 14.8941\n",
            "Epoch 130/300\n",
            "91/91 [==============================] - 0s 66us/step - loss: 6627639.3187 - mean_absolute_percentage_error: 14.8394\n",
            "Epoch 131/300\n",
            "91/91 [==============================] - 0s 176us/step - loss: 6567799.7692 - mean_absolute_percentage_error: 14.8341\n",
            "Epoch 132/300\n",
            "91/91 [==============================] - 0s 66us/step - loss: 6526751.5055 - mean_absolute_percentage_error: 14.8170\n",
            "Epoch 133/300\n",
            "91/91 [==============================] - 0s 132us/step - loss: 6476905.8681 - mean_absolute_percentage_error: 14.7702\n",
            "Epoch 134/300\n",
            "91/91 [==============================] - 0s 66us/step - loss: 6425234.7033 - mean_absolute_percentage_error: 14.7394\n",
            "Epoch 135/300\n",
            "91/91 [==============================] - 0s 77us/step - loss: 6375979.4121 - mean_absolute_percentage_error: 14.6875\n",
            "Epoch 136/300\n",
            "91/91 [==============================] - 0s 66us/step - loss: 6333503.9505 - mean_absolute_percentage_error: 14.6422\n",
            "Epoch 137/300\n",
            "91/91 [==============================] - 0s 77us/step - loss: 6285782.8352 - mean_absolute_percentage_error: 14.5571\n",
            "Epoch 138/300\n",
            "91/91 [==============================] - 0s 66us/step - loss: 6247100.9505 - mean_absolute_percentage_error: 14.4828\n",
            "Epoch 139/300\n",
            "91/91 [==============================] - 0s 77us/step - loss: 6197527.3242 - mean_absolute_percentage_error: 14.4268\n",
            "Epoch 140/300\n",
            "91/91 [==============================] - 0s 77us/step - loss: 6154815.8187 - mean_absolute_percentage_error: 14.3336\n",
            "Epoch 141/300\n",
            "91/91 [==============================] - 0s 66us/step - loss: 6115736.5934 - mean_absolute_percentage_error: 14.2958\n",
            "Epoch 142/300\n",
            "91/91 [==============================] - 0s 99us/step - loss: 6083399.6758 - mean_absolute_percentage_error: 14.2692\n",
            "Epoch 143/300\n",
            "91/91 [==============================] - 0s 66us/step - loss: 6027564.1099 - mean_absolute_percentage_error: 14.2373\n",
            "Epoch 144/300\n",
            "91/91 [==============================] - 0s 121us/step - loss: 5986629.6758 - mean_absolute_percentage_error: 14.2245\n",
            "Epoch 145/300\n",
            "91/91 [==============================] - 0s 110us/step - loss: 5953895.1703 - mean_absolute_percentage_error: 14.2215\n",
            "Epoch 146/300\n",
            "91/91 [==============================] - 0s 99us/step - loss: 5910330.4341 - mean_absolute_percentage_error: 14.2025\n",
            "Epoch 147/300\n",
            "91/91 [==============================] - 0s 77us/step - loss: 5884380.4121 - mean_absolute_percentage_error: 14.1810\n",
            "Epoch 148/300\n",
            "91/91 [==============================] - 0s 66us/step - loss: 5849358.0604 - mean_absolute_percentage_error: 14.1384\n",
            "Epoch 149/300\n",
            "91/91 [==============================] - 0s 88us/step - loss: 5800944.0659 - mean_absolute_percentage_error: 14.0642\n",
            "Epoch 150/300\n",
            "91/91 [==============================] - 0s 77us/step - loss: 5759029.9505 - mean_absolute_percentage_error: 13.9886\n",
            "Epoch 151/300\n",
            "91/91 [==============================] - 0s 121us/step - loss: 5733439.2912 - mean_absolute_percentage_error: 13.9290\n",
            "Epoch 152/300\n",
            "91/91 [==============================] - 0s 132us/step - loss: 5703547.6484 - mean_absolute_percentage_error: 13.8872\n",
            "Epoch 153/300\n",
            "91/91 [==============================] - 0s 99us/step - loss: 5667409.1758 - mean_absolute_percentage_error: 13.8547\n",
            "Epoch 154/300\n",
            "91/91 [==============================] - 0s 77us/step - loss: 5643150.7692 - mean_absolute_percentage_error: 13.8227\n",
            "Epoch 155/300\n",
            "91/91 [==============================] - 0s 77us/step - loss: 5591997.8352 - mean_absolute_percentage_error: 13.7957\n",
            "Epoch 156/300\n",
            "91/91 [==============================] - 0s 99us/step - loss: 5562987.1621 - mean_absolute_percentage_error: 13.8178\n",
            "Epoch 157/300\n",
            "91/91 [==============================] - 0s 77us/step - loss: 5530285.3352 - mean_absolute_percentage_error: 13.8170\n",
            "Epoch 158/300\n",
            "91/91 [==============================] - 0s 77us/step - loss: 5512988.0659 - mean_absolute_percentage_error: 13.8409\n",
            "Epoch 159/300\n",
            "91/91 [==============================] - 0s 88us/step - loss: 5483435.6868 - mean_absolute_percentage_error: 13.8358\n",
            "Epoch 160/300\n",
            "91/91 [==============================] - 0s 88us/step - loss: 5457949.5508 - mean_absolute_percentage_error: 13.7885\n",
            "Epoch 161/300\n",
            "91/91 [==============================] - 0s 110us/step - loss: 5415483.7253 - mean_absolute_percentage_error: 13.7021\n",
            "Epoch 162/300\n",
            "91/91 [==============================] - 0s 132us/step - loss: 5396227.9341 - mean_absolute_percentage_error: 13.6591\n",
            "Epoch 163/300\n",
            "91/91 [==============================] - 0s 88us/step - loss: 5356757.4780 - mean_absolute_percentage_error: 13.5897\n",
            "Epoch 164/300\n",
            "91/91 [==============================] - 0s 99us/step - loss: 5341183.5989 - mean_absolute_percentage_error: 13.5518\n",
            "Epoch 165/300\n",
            "91/91 [==============================] - 0s 77us/step - loss: 5303304.9368 - mean_absolute_percentage_error: 13.5102\n",
            "Epoch 166/300\n",
            "91/91 [==============================] - 0s 77us/step - loss: 5278651.6978 - mean_absolute_percentage_error: 13.5067\n",
            "Epoch 167/300\n",
            "91/91 [==============================] - 0s 77us/step - loss: 5256838.7802 - mean_absolute_percentage_error: 13.4933\n",
            "Epoch 168/300\n",
            "91/91 [==============================] - 0s 77us/step - loss: 5225301.1044 - mean_absolute_percentage_error: 13.4626\n",
            "Epoch 169/300\n",
            "91/91 [==============================] - 0s 77us/step - loss: 5196111.4231 - mean_absolute_percentage_error: 13.4494\n",
            "Epoch 170/300\n",
            "91/91 [==============================] - 0s 88us/step - loss: 5176990.4945 - mean_absolute_percentage_error: 13.4305\n",
            "Epoch 171/300\n",
            "91/91 [==============================] - 0s 209us/step - loss: 5148085.3846 - mean_absolute_percentage_error: 13.3872\n",
            "Epoch 172/300\n",
            "91/91 [==============================] - 0s 132us/step - loss: 5121681.0027 - mean_absolute_percentage_error: 13.3325\n",
            "Epoch 173/300\n",
            "91/91 [==============================] - 0s 99us/step - loss: 5103097.7418 - mean_absolute_percentage_error: 13.2941\n",
            "Epoch 174/300\n",
            "91/91 [==============================] - 0s 66us/step - loss: 5077666.1786 - mean_absolute_percentage_error: 13.2308\n",
            "Epoch 175/300\n",
            "91/91 [==============================] - 0s 88us/step - loss: 5061086.8187 - mean_absolute_percentage_error: 13.2040\n",
            "Epoch 176/300\n",
            "91/91 [==============================] - 0s 77us/step - loss: 5045905.1593 - mean_absolute_percentage_error: 13.2025\n",
            "Epoch 177/300\n",
            "91/91 [==============================] - 0s 77us/step - loss: 5013484.2033 - mean_absolute_percentage_error: 13.1806\n",
            "Epoch 178/300\n",
            "91/91 [==============================] - 0s 66us/step - loss: 4986599.6264 - mean_absolute_percentage_error: 13.1502\n",
            "Epoch 179/300\n",
            "91/91 [==============================] - 0s 77us/step - loss: 4976222.9725 - mean_absolute_percentage_error: 13.1518\n",
            "Epoch 180/300\n",
            "91/91 [==============================] - 0s 88us/step - loss: 4959187.2473 - mean_absolute_percentage_error: 13.1672\n",
            "Epoch 181/300\n",
            "91/91 [==============================] - 0s 143us/step - loss: 4929385.5549 - mean_absolute_percentage_error: 13.1310\n",
            "Epoch 182/300\n",
            "91/91 [==============================] - 0s 88us/step - loss: 4906808.2143 - mean_absolute_percentage_error: 13.0510\n",
            "Epoch 183/300\n",
            "91/91 [==============================] - 0s 99us/step - loss: 4893353.2857 - mean_absolute_percentage_error: 12.9925\n",
            "Epoch 184/300\n",
            "91/91 [==============================] - 0s 99us/step - loss: 4868745.8901 - mean_absolute_percentage_error: 12.9391\n",
            "Epoch 185/300\n",
            "91/91 [==============================] - 0s 77us/step - loss: 4852089.9945 - mean_absolute_percentage_error: 12.9255\n",
            "Epoch 186/300\n",
            "91/91 [==============================] - 0s 66us/step - loss: 4837066.2582 - mean_absolute_percentage_error: 12.9289\n",
            "Epoch 187/300\n",
            "91/91 [==============================] - 0s 66us/step - loss: 4812496.9835 - mean_absolute_percentage_error: 12.9237\n",
            "Epoch 188/300\n",
            "91/91 [==============================] - 0s 77us/step - loss: 4796396.4093 - mean_absolute_percentage_error: 12.9116\n",
            "Epoch 189/300\n",
            "91/91 [==============================] - 0s 77us/step - loss: 4777717.5714 - mean_absolute_percentage_error: 12.8799\n",
            "Epoch 190/300\n",
            "91/91 [==============================] - 0s 77us/step - loss: 4760119.9396 - mean_absolute_percentage_error: 12.8522\n",
            "Epoch 191/300\n",
            "91/91 [==============================] - 0s 66us/step - loss: 4741355.3407 - mean_absolute_percentage_error: 12.8288\n",
            "Epoch 192/300\n",
            "91/91 [==============================] - 0s 77us/step - loss: 4727792.5962 - mean_absolute_percentage_error: 12.7976\n",
            "Epoch 193/300\n",
            "91/91 [==============================] - 0s 88us/step - loss: 4717444.3846 - mean_absolute_percentage_error: 12.7789\n",
            "Epoch 194/300\n",
            "91/91 [==============================] - 0s 121us/step - loss: 4700272.4203 - mean_absolute_percentage_error: 12.7721\n",
            "Epoch 195/300\n",
            "91/91 [==============================] - 0s 99us/step - loss: 4684398.4835 - mean_absolute_percentage_error: 12.7717\n",
            "Epoch 196/300\n",
            "91/91 [==============================] - 0s 132us/step - loss: 4665062.4780 - mean_absolute_percentage_error: 12.7554\n",
            "Epoch 197/300\n",
            "91/91 [==============================] - 0s 77us/step - loss: 4654479.7088 - mean_absolute_percentage_error: 12.7338\n",
            "Epoch 198/300\n",
            "91/91 [==============================] - 0s 99us/step - loss: 4633514.5110 - mean_absolute_percentage_error: 12.7019\n",
            "Epoch 199/300\n",
            "91/91 [==============================] - 0s 77us/step - loss: 4621600.0165 - mean_absolute_percentage_error: 12.6716\n",
            "Epoch 200/300\n",
            "91/91 [==============================] - 0s 88us/step - loss: 4608930.8379 - mean_absolute_percentage_error: 12.6318\n",
            "Epoch 201/300\n",
            "91/91 [==============================] - 0s 88us/step - loss: 4598169.2857 - mean_absolute_percentage_error: 12.6326\n",
            "Epoch 202/300\n",
            "91/91 [==============================] - 0s 99us/step - loss: 4581038.3516 - mean_absolute_percentage_error: 12.6294\n",
            "Epoch 203/300\n",
            "91/91 [==============================] - 0s 99us/step - loss: 4567819.3846 - mean_absolute_percentage_error: 12.6205\n",
            "Epoch 204/300\n",
            "91/91 [==============================] - 0s 77us/step - loss: 4552404.1374 - mean_absolute_percentage_error: 12.6070\n",
            "Epoch 205/300\n",
            "91/91 [==============================] - 0s 88us/step - loss: 4550521.5247 - mean_absolute_percentage_error: 12.5924\n",
            "Epoch 206/300\n",
            "91/91 [==============================] - 0s 88us/step - loss: 4527965.3077 - mean_absolute_percentage_error: 12.5424\n",
            "Epoch 207/300\n",
            "91/91 [==============================] - 0s 77us/step - loss: 4522218.1786 - mean_absolute_percentage_error: 12.5409\n",
            "Epoch 208/300\n",
            "91/91 [==============================] - 0s 66us/step - loss: 4502603.8077 - mean_absolute_percentage_error: 12.5278\n",
            "Epoch 209/300\n",
            "91/91 [==============================] - 0s 110us/step - loss: 4497113.9890 - mean_absolute_percentage_error: 12.5638\n",
            "Epoch 210/300\n",
            "91/91 [==============================] - 0s 77us/step - loss: 4481906.3736 - mean_absolute_percentage_error: 12.5745\n",
            "Epoch 211/300\n",
            "91/91 [==============================] - 0s 88us/step - loss: 4472066.8242 - mean_absolute_percentage_error: 12.5629\n",
            "Epoch 212/300\n",
            "91/91 [==============================] - 0s 66us/step - loss: 4475149.4725 - mean_absolute_percentage_error: 12.5288\n",
            "Epoch 213/300\n",
            "91/91 [==============================] - 0s 99us/step - loss: 4450184.3516 - mean_absolute_percentage_error: 12.4606\n",
            "Epoch 214/300\n",
            "91/91 [==============================] - 0s 77us/step - loss: 4439533.4698 - mean_absolute_percentage_error: 12.4424\n",
            "Epoch 215/300\n",
            "91/91 [==============================] - 0s 88us/step - loss: 4434748.6374 - mean_absolute_percentage_error: 12.4418\n",
            "Epoch 216/300\n",
            "91/91 [==============================] - 0s 110us/step - loss: 4409780.5000 - mean_absolute_percentage_error: 12.4405\n",
            "Epoch 217/300\n",
            "91/91 [==============================] - 0s 77us/step - loss: 4425851.4505 - mean_absolute_percentage_error: 12.5264\n",
            "Epoch 218/300\n",
            "91/91 [==============================] - 0s 121us/step - loss: 4405312.5659 - mean_absolute_percentage_error: 12.5410\n",
            "Epoch 219/300\n",
            "91/91 [==============================] - 0s 77us/step - loss: 4396726.9148 - mean_absolute_percentage_error: 12.4900\n",
            "Epoch 220/300\n",
            "91/91 [==============================] - 0s 88us/step - loss: 4378506.3242 - mean_absolute_percentage_error: 12.4196\n",
            "Epoch 221/300\n",
            "91/91 [==============================] - 0s 99us/step - loss: 4371114.6154 - mean_absolute_percentage_error: 12.3522\n",
            "Epoch 222/300\n",
            "91/91 [==============================] - 0s 187us/step - loss: 4359894.6099 - mean_absolute_percentage_error: 12.3131\n",
            "Epoch 223/300\n",
            "91/91 [==============================] - 0s 77us/step - loss: 4349766.2637 - mean_absolute_percentage_error: 12.3189\n",
            "Epoch 224/300\n",
            "91/91 [==============================] - 0s 77us/step - loss: 4338139.5962 - mean_absolute_percentage_error: 12.3336\n",
            "Epoch 225/300\n",
            "91/91 [==============================] - 0s 66us/step - loss: 4330904.0604 - mean_absolute_percentage_error: 12.3490\n",
            "Epoch 226/300\n",
            "91/91 [==============================] - 0s 66us/step - loss: 4324872.0769 - mean_absolute_percentage_error: 12.3610\n",
            "Epoch 227/300\n",
            "91/91 [==============================] - 0s 66us/step - loss: 4311521.0495 - mean_absolute_percentage_error: 12.3412\n",
            "Epoch 228/300\n",
            "91/91 [==============================] - 0s 77us/step - loss: 4306720.0934 - mean_absolute_percentage_error: 12.3126\n",
            "Epoch 229/300\n",
            "91/91 [==============================] - 0s 66us/step - loss: 4301292.8571 - mean_absolute_percentage_error: 12.2769\n",
            "Epoch 230/300\n",
            "91/91 [==============================] - 0s 77us/step - loss: 4305784.2802 - mean_absolute_percentage_error: 12.2639\n",
            "Epoch 231/300\n",
            "91/91 [==============================] - 0s 110us/step - loss: 4280765.9066 - mean_absolute_percentage_error: 12.1946\n",
            "Epoch 232/300\n",
            "91/91 [==============================] - 0s 66us/step - loss: 4270978.5220 - mean_absolute_percentage_error: 12.2225\n",
            "Epoch 233/300\n",
            "91/91 [==============================] - 0s 88us/step - loss: 4261101.7445 - mean_absolute_percentage_error: 12.2268\n",
            "Epoch 234/300\n",
            "91/91 [==============================] - 0s 88us/step - loss: 4256231.2363 - mean_absolute_percentage_error: 12.2200\n",
            "Epoch 235/300\n",
            "91/91 [==============================] - 0s 77us/step - loss: 4247323.2418 - mean_absolute_percentage_error: 12.2129\n",
            "Epoch 236/300\n",
            "91/91 [==============================] - 0s 88us/step - loss: 4240865.0879 - mean_absolute_percentage_error: 12.2126\n",
            "Epoch 237/300\n",
            "91/91 [==============================] - 0s 66us/step - loss: 4230137.6429 - mean_absolute_percentage_error: 12.1812\n",
            "Epoch 238/300\n",
            "91/91 [==============================] - 0s 66us/step - loss: 4246007.0110 - mean_absolute_percentage_error: 12.1725\n",
            "Epoch 239/300\n",
            "91/91 [==============================] - 0s 66us/step - loss: 4219623.4121 - mean_absolute_percentage_error: 12.1499\n",
            "Epoch 240/300\n",
            "91/91 [==============================] - 0s 121us/step - loss: 4213597.9121 - mean_absolute_percentage_error: 12.1680\n",
            "Epoch 241/300\n",
            "91/91 [==============================] - 0s 66us/step - loss: 4212534.6593 - mean_absolute_percentage_error: 12.2235\n",
            "Epoch 242/300\n",
            "91/91 [==============================] - 0s 77us/step - loss: 4193762.4918 - mean_absolute_percentage_error: 12.1938\n",
            "Epoch 243/300\n",
            "91/91 [==============================] - 0s 99us/step - loss: 4185770.3681 - mean_absolute_percentage_error: 12.1376\n",
            "Epoch 244/300\n",
            "91/91 [==============================] - 0s 110us/step - loss: 4177548.2060 - mean_absolute_percentage_error: 12.0590\n",
            "Epoch 245/300\n",
            "91/91 [==============================] - 0s 66us/step - loss: 4173470.4478 - mean_absolute_percentage_error: 12.0269\n",
            "Epoch 246/300\n",
            "91/91 [==============================] - 0s 66us/step - loss: 4167108.4396 - mean_absolute_percentage_error: 11.9928\n",
            "Epoch 247/300\n",
            "91/91 [==============================] - 0s 66us/step - loss: 4163655.5275 - mean_absolute_percentage_error: 11.9844\n",
            "Epoch 248/300\n",
            "91/91 [==============================] - 0s 66us/step - loss: 4149803.8819 - mean_absolute_percentage_error: 11.9896\n",
            "Epoch 249/300\n"
          ],
          "name": "stdout"
        },
        {
          "output_type": "stream",
          "text": [
            "91/91 [==============================] - 0s 66us/step - loss: 4147162.2473 - mean_absolute_percentage_error: 12.0289\n",
            "Epoch 250/300\n",
            "91/91 [==============================] - 0s 66us/step - loss: 4137388.4505 - mean_absolute_percentage_error: 12.0781\n",
            "Epoch 251/300\n",
            "91/91 [==============================] - 0s 88us/step - loss: 4138138.2637 - mean_absolute_percentage_error: 12.0823\n",
            "Epoch 252/300\n",
            "91/91 [==============================] - 0s 143us/step - loss: 4125467.1923 - mean_absolute_percentage_error: 12.0492\n",
            "Epoch 253/300\n",
            "91/91 [==============================] - 0s 88us/step - loss: 4129192.2088 - mean_absolute_percentage_error: 12.0172\n",
            "Epoch 254/300\n",
            "91/91 [==============================] - 0s 77us/step - loss: 4114978.7582 - mean_absolute_percentage_error: 12.0167\n",
            "Epoch 255/300\n",
            "91/91 [==============================] - 0s 110us/step - loss: 4107376.8764 - mean_absolute_percentage_error: 11.9981\n",
            "Epoch 256/300\n",
            "91/91 [==============================] - 0s 88us/step - loss: 4100859.3929 - mean_absolute_percentage_error: 11.9843\n",
            "Epoch 257/300\n",
            "91/91 [==============================] - 0s 88us/step - loss: 4095226.0165 - mean_absolute_percentage_error: 11.9539\n",
            "Epoch 258/300\n",
            "91/91 [==============================] - 0s 99us/step - loss: 4088874.7280 - mean_absolute_percentage_error: 11.9590\n",
            "Epoch 259/300\n",
            "91/91 [==============================] - 0s 88us/step - loss: 4080092.0879 - mean_absolute_percentage_error: 11.9437\n",
            "Epoch 260/300\n",
            "91/91 [==============================] - 0s 77us/step - loss: 4077096.7940 - mean_absolute_percentage_error: 11.9100\n",
            "Epoch 261/300\n",
            "91/91 [==============================] - 0s 77us/step - loss: 4065241.5797 - mean_absolute_percentage_error: 11.8872\n",
            "Epoch 262/300\n",
            "91/91 [==============================] - 0s 77us/step - loss: 4062467.9258 - mean_absolute_percentage_error: 11.9054\n",
            "Epoch 263/300\n",
            "91/91 [==============================] - 0s 66us/step - loss: 4055138.6703 - mean_absolute_percentage_error: 11.9084\n",
            "Epoch 264/300\n",
            "91/91 [==============================] - 0s 99us/step - loss: 4053100.0659 - mean_absolute_percentage_error: 11.9058\n",
            "Epoch 265/300\n",
            "91/91 [==============================] - 0s 88us/step - loss: 4041695.3297 - mean_absolute_percentage_error: 11.8724\n",
            "Epoch 266/300\n",
            "91/91 [==============================] - 0s 77us/step - loss: 4038553.3736 - mean_absolute_percentage_error: 11.8224\n",
            "Epoch 267/300\n",
            "91/91 [==============================] - 0s 121us/step - loss: 4031387.0192 - mean_absolute_percentage_error: 11.8019\n",
            "Epoch 268/300\n",
            "91/91 [==============================] - 0s 143us/step - loss: 4026852.1099 - mean_absolute_percentage_error: 11.7877\n",
            "Epoch 269/300\n",
            "91/91 [==============================] - 0s 121us/step - loss: 4028213.8077 - mean_absolute_percentage_error: 11.8004\n",
            "Epoch 270/300\n",
            "91/91 [==============================] - 0s 77us/step - loss: 4011847.0824 - mean_absolute_percentage_error: 11.8107\n",
            "Epoch 271/300\n",
            "91/91 [==============================] - 0s 132us/step - loss: 4008252.0192 - mean_absolute_percentage_error: 11.7998\n",
            "Epoch 272/300\n",
            "91/91 [==============================] - 0s 77us/step - loss: 4002477.0852 - mean_absolute_percentage_error: 11.7895\n",
            "Epoch 273/300\n",
            "91/91 [==============================] - 0s 77us/step - loss: 3997732.6319 - mean_absolute_percentage_error: 11.7864\n",
            "Epoch 274/300\n",
            "91/91 [==============================] - 0s 77us/step - loss: 3995518.6621 - mean_absolute_percentage_error: 11.7844\n",
            "Epoch 275/300\n",
            "91/91 [==============================] - 0s 77us/step - loss: 3987238.4341 - mean_absolute_percentage_error: 11.7531\n",
            "Epoch 276/300\n",
            "91/91 [==============================] - 0s 99us/step - loss: 3979989.5137 - mean_absolute_percentage_error: 11.7489\n",
            "Epoch 277/300\n",
            "91/91 [==============================] - 0s 77us/step - loss: 3982243.6264 - mean_absolute_percentage_error: 11.7701\n",
            "Epoch 278/300\n",
            "91/91 [==============================] - 0s 77us/step - loss: 3970478.6813 - mean_absolute_percentage_error: 11.7599\n",
            "Epoch 279/300\n",
            "91/91 [==============================] - 0s 99us/step - loss: 3975916.1126 - mean_absolute_percentage_error: 11.8037\n",
            "Epoch 280/300\n",
            "91/91 [==============================] - 0s 77us/step - loss: 3963501.2143 - mean_absolute_percentage_error: 11.7956\n",
            "Epoch 281/300\n",
            "91/91 [==============================] - 0s 176us/step - loss: 3959289.5330 - mean_absolute_percentage_error: 11.7732\n",
            "Epoch 282/300\n",
            "91/91 [==============================] - 0s 88us/step - loss: 3964366.1044 - mean_absolute_percentage_error: 11.7315\n",
            "Epoch 283/300\n",
            "91/91 [==============================] - 0s 99us/step - loss: 3969395.8764 - mean_absolute_percentage_error: 11.7226\n",
            "Epoch 284/300\n",
            "91/91 [==============================] - 0s 77us/step - loss: 3934995.1016 - mean_absolute_percentage_error: 11.6753\n",
            "Epoch 285/300\n",
            "91/91 [==============================] - 0s 88us/step - loss: 3934292.0330 - mean_absolute_percentage_error: 11.6238\n",
            "Epoch 286/300\n",
            "91/91 [==============================] - 0s 77us/step - loss: 3931992.1841 - mean_absolute_percentage_error: 11.5710\n",
            "Epoch 287/300\n",
            "91/91 [==============================] - 0s 99us/step - loss: 3930709.7060 - mean_absolute_percentage_error: 11.5822\n",
            "Epoch 288/300\n",
            "91/91 [==============================] - 0s 88us/step - loss: 3917777.6154 - mean_absolute_percentage_error: 11.5994\n",
            "Epoch 289/300\n",
            "91/91 [==============================] - 0s 110us/step - loss: 3928214.9368 - mean_absolute_percentage_error: 11.6359\n",
            "Epoch 290/300\n",
            "91/91 [==============================] - 0s 176us/step - loss: 3921813.5412 - mean_absolute_percentage_error: 11.6262\n",
            "Epoch 291/300\n",
            "91/91 [==============================] - 0s 99us/step - loss: 3900774.9203 - mean_absolute_percentage_error: 11.5903\n",
            "Epoch 292/300\n",
            "91/91 [==============================] - 0s 77us/step - loss: 3904490.8434 - mean_absolute_percentage_error: 11.6174\n",
            "Epoch 293/300\n",
            "91/91 [==============================] - 0s 99us/step - loss: 3899747.9396 - mean_absolute_percentage_error: 11.6151\n",
            "Epoch 294/300\n",
            "91/91 [==============================] - 0s 77us/step - loss: 3888201.2390 - mean_absolute_percentage_error: 11.5945\n",
            "Epoch 295/300\n",
            "91/91 [==============================] - 0s 88us/step - loss: 3890452.1374 - mean_absolute_percentage_error: 11.6300\n",
            "Epoch 296/300\n",
            "91/91 [==============================] - 0s 88us/step - loss: 3881339.4396 - mean_absolute_percentage_error: 11.6430\n",
            "Epoch 297/300\n",
            "91/91 [==============================] - 0s 99us/step - loss: 3893811.4176 - mean_absolute_percentage_error: 11.6681\n",
            "Epoch 298/300\n",
            "91/91 [==============================] - 0s 110us/step - loss: 3873969.4670 - mean_absolute_percentage_error: 11.5973\n",
            "Epoch 299/300\n",
            "91/91 [==============================] - 0s 88us/step - loss: 3867463.6236 - mean_absolute_percentage_error: 11.5142\n",
            "Epoch 300/300\n",
            "91/91 [==============================] - 0s 110us/step - loss: 3862008.1044 - mean_absolute_percentage_error: 11.4596\n"
          ],
          "name": "stdout"
        },
        {
          "output_type": "execute_result",
          "data": {
            "text/plain": [
              "<keras.callbacks.History at 0x2179f92e5f8>"
            ]
          },
          "metadata": {
            "tags": []
          },
          "execution_count": 106
        }
      ]
    },
    {
      "cell_type": "code",
      "metadata": {
        "id": "vzQiy7lTX-bv",
        "outputId": "b96f6db3-4730-4fb7-ef21-c6cf8a0e41b2"
      },
      "source": [
        "# оценка качества модели на тестовом множестве\n",
        "scores = model.evaluate(X_test, y_test)\n",
        "print(\"\\nMAPE: %.2f%%\" % (scores[1]))"
      ],
      "execution_count": null,
      "outputs": [
        {
          "output_type": "stream",
          "text": [
            "5/5 [==============================] - 0s 23ms/step\n",
            "\n",
            "MAPE: 11.02%\n"
          ],
          "name": "stdout"
        }
      ]
    },
    {
      "cell_type": "code",
      "metadata": {
        "id": "e0BtMZ3LX-b0"
      },
      "source": [
        "# Вычисляем прогноз\n",
        "predictions = model.predict(X_test)\n"
      ],
      "execution_count": null,
      "outputs": []
    },
    {
      "cell_type": "code",
      "metadata": {
        "id": "PzXVINQYX-b3"
      },
      "source": [
        "# Вычисляем подгонку\n",
        "predictions_train = model.predict(X_train)"
      ],
      "execution_count": null,
      "outputs": []
    },
    {
      "cell_type": "code",
      "metadata": {
        "id": "KmfhDElwX-b4"
      },
      "source": [
        "# Вспоминаем размеры таблиц\n",
        "print(X_train.shape)\n",
        "print(y_train.shape)\n",
        "print(X_test.shape)\n",
        "print(y_test.shape)"
      ],
      "execution_count": null,
      "outputs": []
    },
    {
      "cell_type": "code",
      "metadata": {
        "id": "uy-ayEGyX-b6"
      },
      "source": [
        "#   было 108 наблюдений\n",
        "\n",
        "#   отбросили 12 стало 96\n",
        "#   train 91\n",
        "#   test  5\n"
      ],
      "execution_count": null,
      "outputs": []
    },
    {
      "cell_type": "code",
      "metadata": {
        "id": "7MNLL_5EX-b8",
        "outputId": "2a1548b5-f355-487a-b900-9ebe232a0668"
      },
      "source": [
        "#   График с результатами\n",
        "\n",
        "#   numpy.arange([start, ]stop, [step, ]dtype=None)¶\n",
        "\n",
        "x2 = numpy.arange(0, 91, 1)\n",
        "\n",
        "x3 = numpy.arange(91, 96, 1)\n",
        "\n",
        "\n",
        "plt.plot(x2, y_train, color='blue')\n",
        "\n",
        "plt.plot(x2, predictions_train, color='green')\n",
        "\n",
        "plt.plot(x3, y_test, color='blue')\n",
        "\n",
        "plt.plot(x3, predictions, color='red')\n",
        "\n"
      ],
      "execution_count": null,
      "outputs": [
        {
          "output_type": "execute_result",
          "data": {
            "text/plain": [
              "[<matplotlib.lines.Line2D at 0x217a0ee9748>]"
            ]
          },
          "metadata": {
            "tags": []
          },
          "execution_count": 111
        },
        {
          "output_type": "display_data",
          "data": {
            "image/png": "[encoded data removed]",
            "text/plain": [
              "<Figure size 432x288 with 1 Axes>"
            ]
          },
          "metadata": {
            "tags": []
          }
        }
      ]
    }
  ]
}