{
  "nbformat": 4,
  "nbformat_minor": 0,
  "metadata": {
    "colab": {
      "name": "goaccess.ipynb",
      "provenance": [],
      "collapsed_sections": [],
      "toc_visible": true,
      "authorship_tag": "ABX9TyMa/NrKyOp+Ac2B9w2TNBt9",
      "include_colab_link": true
    },
    "kernelspec": {
      "name": "python3",
      "display_name": "Python 3"
    }
  },
  "cells": [
    {
      "cell_type": "markdown",
      "metadata": {
        "id": "view-in-github",
        "colab_type": "text"
      },
      "source": [
        "<a href=\"https://colab.research.google.com/github/fix27/Colab-Store/blob/main/goaccess.ipynb\" target=\"_parent\"><img src=\"https://colab.research.google.com/assets/colab-badge.svg\" alt=\"Open In Colab\"/></a>"
      ]
    },
    {
      "cell_type": "code",
      "metadata": {
        "id": "IszbRs1us38s",
        "outputId": "e34ed1de-1f05-4196-8794-9ede2772fba7",
        "colab": {
          "base_uri": "https://localhost:8080/"
        }
      },
      "source": [
        "!apt-get update\n",
        "!apt-get install libncursesw5-dev libgeoip-dev libtokyocabinet-dev\n",
        "!apt-get install goaccess\n"
      ],
      "execution_count": 7,
      "outputs": [
        {
          "output_type": "stream",
          "text": [
            "\r0% [Working]\r            \rIgn:1 https://developer.download.nvidia.com/compute/cuda/repos/ubuntu1804/x86_64  InRelease\n",
            "\r0% [Connecting to archive.ubuntu.com (91.189.88.152)] [Waiting for headers] [Wa\r                                                                               \rHit:2 https://cloud.r-project.org/bin/linux/ubuntu bionic-cran40/ InRelease\n",
            "\r0% [Waiting for headers] [Waiting for headers] [Waiting for headers] [Waiting f\r0% [2 InRelease gpgv 3,626 B] [Waiting for headers] [Waiting for headers] [Wait\r                                                                               \rIgn:3 https://developer.download.nvidia.com/compute/machine-learning/repos/ubuntu1804/x86_64  InRelease\n",
            "\r0% [2 InRelease gpgv 3,626 B] [Waiting for headers] [Waiting for headers] [Wait\r                                                                               \rHit:4 http://security.ubuntu.com/ubuntu bionic-security InRelease\n",
            "\r                                                                               \rHit:5 http://ppa.launchpad.net/c2d4u.team/c2d4u4.0+/ubuntu bionic InRelease\n",
            "Hit:6 https://developer.download.nvidia.com/compute/cuda/repos/ubuntu1804/x86_64  Release\n",
            "Hit:7 https://developer.download.nvidia.com/compute/machine-learning/repos/ubuntu1804/x86_64  Release\n",
            "Hit:8 http://archive.ubuntu.com/ubuntu bionic InRelease\n",
            "Hit:9 http://archive.ubuntu.com/ubuntu bionic-updates InRelease\n",
            "Hit:10 http://ppa.launchpad.net/graphics-drivers/ppa/ubuntu bionic InRelease\n",
            "Hit:11 http://archive.ubuntu.com/ubuntu bionic-backports InRelease\n",
            "Reading package lists... Done\n",
            "Reading package lists... Done\n",
            "Building dependency tree       \n",
            "Reading state information... Done\n",
            "libgeoip-dev is already the newest version (1.6.12-1).\n",
            "libtokyocabinet-dev is already the newest version (1.4.48-11).\n",
            "libncursesw5-dev is already the newest version (6.1-1ubuntu1.18.04).\n",
            "0 upgraded, 0 newly installed, 0 to remove and 40 not upgraded.\n",
            "Reading package lists... Done\n",
            "Building dependency tree       \n",
            "Reading state information... Done\n",
            "The following NEW packages will be installed:\n",
            "  goaccess\n",
            "0 upgraded, 1 newly installed, 0 to remove and 40 not upgraded.\n",
            "Need to get 328 kB of archives.\n",
            "After this operation, 1,008 kB of additional disk space will be used.\n",
            "Get:1 http://archive.ubuntu.com/ubuntu bionic/universe amd64 goaccess amd64 1:1.2-3 [328 kB]\n",
            "Fetched 328 kB in 1s (479 kB/s)\n",
            "Selecting previously unselected package goaccess.\n",
            "(Reading database ... 144923 files and directories currently installed.)\n",
            "Preparing to unpack .../goaccess_1%3a1.2-3_amd64.deb ...\n",
            "Unpacking goaccess (1:1.2-3) ...\n",
            "Setting up goaccess (1:1.2-3) ...\n",
            "Processing triggers for man-db (2.8.3-2ubuntu0.1) ...\n"
          ],
          "name": "stdout"
        }
      ]
    },
    {
      "cell_type": "code",
      "metadata": {
        "id": "yR1xL8PEtBDA"
      },
      "source": [
        "#!wget http://tar.goaccess.io/goaccess-1.3.tar.gz\n",
        "#!tar -xzvf goaccess-1.3.tar.gz\n",
        "#%cd goaccess-1.3/\n",
        "#!./configure --enable-utf8 --enable-geoip=legacy\n",
        "#!make\n",
        "#!make install"
      ],
      "execution_count": 8,
      "outputs": []
    },
    {
      "cell_type": "code",
      "metadata": {
        "id": "cHeMCVJ5wfRp",
        "outputId": "4a20065a-65ab-40d0-8f39-aa1888c8b736",
        "colab": {
          "base_uri": "https://localhost:8080/"
        }
      },
      "source": [
        "!goaccess /content/access.log -o /content/report.html --log-format=COMBINED"
      ],
      "execution_count": 9,
      "outputs": [
        {
          "output_type": "stream",
          "text": [
            ""
          ],
          "name": "stdout"
        }
      ]
    },
    {
      "cell_type": "code",
      "metadata": {
        "id": "8P_ra4c9tjQR"
      },
      "source": [
        "#!goaccess -f /content/access.log "
      ],
      "execution_count": 10,
      "outputs": []
    },
    {
      "cell_type": "code",
      "metadata": {
        "id": "BB-UnzzavrQG"
      },
      "source": [
        "#!goaccess /content/access.log -o /content/report.html --log-format=COMBINED"
      ],
      "execution_count": 11,
      "outputs": []
    }
  ]
}