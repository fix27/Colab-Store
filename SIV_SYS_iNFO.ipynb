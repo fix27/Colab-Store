{
  "nbformat": 4,
  "nbformat_minor": 0,
  "metadata": {
    "colab": {
      "name": "SIV_SYS_iNFO.ipynb",
      "provenance": [],
      "collapsed_sections": [],
      "include_colab_link": true
    },
    "kernelspec": {
      "name": "python3",
      "display_name": "Python 3"
    }
  },
  "cells": [
    {
      "cell_type": "markdown",
      "metadata": {
        "id": "view-in-github",
        "colab_type": "text"
      },
      "source": [
        "<a href=\"https://colab.research.google.com/github/fix27/Colab-Store/blob/main/SIV_SYS_iNFO.ipynb\" target=\"_parent\"><img src=\"https://colab.research.google.com/assets/colab-badge.svg\" alt=\"Open In Colab\"/></a>"
      ]
    },
    {
      "cell_type": "code",
      "metadata": {
        "id": "OsKLKn-yoaGx"
      },
      "source": [
        "import os\n",
        "import fnmatch\n",
        "import sys\n",
        "import shutil\n",
        "import re\n",
        "\n",
        "#def usage():\n",
        "#    print (os.path.basename(sys.argv[0]))\n",
        "\n",
        "def find_data(directory, search_pattern_array, glob_pattern, create_backup=False):\n",
        "  with open(\"data.csv\", \"w\", encoding=\"cp1251\", errors='ignore') as fw:\n",
        "    for path, dirs, files in os.walk(os.path.abspath(directory)):\n",
        "        for filename in fnmatch.filter(files, glob_pattern):\n",
        "            pardir = os.path.normpath(os.path.join(path, '..'))\n",
        "            pardir = os.path.split(pardir)[-1]\n",
        "            filepath = os.path.join(path, filename)\n",
        "            #backup orig file\n",
        "            #if create_backup:\n",
        "            #    backup_path = filepath + '.bak'\n",
        "            #    shutil.copyfile(filepath, backup_path)\n",
        "            with open(filepath, \"r\", encoding=\"cp1251\", errors='ignore') as f:\n",
        "                data = f.read()                  \n",
        "                # s = s.replace(search_pattern, replacement)\n",
        "                fw.write(str(filepath)+';')\n",
        "                for search_pattern in search_pattern_array :\n",
        "                  fas = re.findall(search_pattern,data)\n",
        "                  if not (fas is None) : \n",
        "                     for s in fas :                    \n",
        "                        fw.write(s+';')\n",
        "                fw.write('\\n')\n",
        " \n",
        "if __name__ == '__main__':\n",
        "#    if len(sys.argv) == 1:\n",
        "#        usage()\n",
        "#        sys.exit(-1)\n",
        "        \n",
        "#    work_dir = sys.argv[1]\n",
        "#    search_regex = sys.argv[2]\n",
        "#    replacement = sys.argv[3]\n",
        "#    glob_pattern = sys.argv[4]\n",
        "#    dobackup = (len(sys.argv) > 4) and sys.argv[5].lower() in ['backup', '-b']\n",
        "    # findReplace(\".\", \"<span[^>]*>\", \"<div>\", \"*.html\")\n",
        "    #find_replace(work_dir, search_regex, replacement, glob_pattern, dobackup)\n",
        "    search_pattern_array = (\"\\sSerial.+Revision\",\"[0-9]\\s[0-9A-F]{2}\\s\\s\\|G\\|(.+)[0-9A-F]{2}\\n\",\"\\s[-+]?(?:\\d+(?:\\.\\d*)?|\\.\\d+)(?:[eE][-+]?\\d+)*°C\")\n",
        "    find_data(\".\", search_pattern_array, \"SIV*.txt\", True) #dobackup)\n",
        "!cat data.csv    "
      ],
      "execution_count": null,
      "outputs": []
    }
  ]
}