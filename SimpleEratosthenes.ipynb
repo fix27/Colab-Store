{
  "nbformat": 4,
  "nbformat_minor": 0,
  "metadata": {
    "colab": {
      "name": "SimpleEratosthenes.ipynb",
      "provenance": [],
      "collapsed_sections": [],
      "toc_visible": true,
      "machine_shape": "hm",
      "include_colab_link": true
    },
    "kernelspec": {
      "name": "python3",
      "display_name": "Python 3"
    }
  },
  "cells": [
    {
      "cell_type": "markdown",
      "metadata": {
        "id": "view-in-github",
        "colab_type": "text"
      },
      "source": [
        "<a href=\"https://colab.research.google.com/github/fix27/Colab-Store/blob/main/SimpleEratosthenes.ipynb\" target=\"_parent\"><img src=\"https://colab.research.google.com/assets/colab-badge.svg\" alt=\"Open In Colab\"/></a>"
      ]
    },
    {
      "cell_type": "code",
      "metadata": {
        "id": "sK7eqO73OM7E",
        "outputId": "b884812c-3c96-42e9-a2ff-a701cc027c3b",
        "colab": {
          "base_uri": "https://localhost:8080/",
          "height": 102
        }
      },
      "source": [
        "!rm simple.csv\n",
        "!pip install bitarray \n",
        "import math\n",
        "import numpy \n",
        "import datetime\n",
        "#from google.colab import files\n",
        "from bitarray import bitarray \n",
        "tb = datetime.datetime.now()\n",
        "maxan = 350000000    \n",
        " #//50*1024*1024;//1669597379;\n",
        "maxx = maxan*12\n",
        "Resheto = bitarray(maxan*8)\n",
        "Resheto.setall(True)\n",
        "with open('simple.csv', 'w') as outfile:\n",
        " outfile.write('n;x\\n')\n",
        " outfile.write('1;2\\n')\n",
        " outfile.write('2;3\\n')\n",
        " an=3\n",
        " print('Write file...')\n",
        " i=5\n",
        " maxs=math.trunc(math.sqrt(maxx))+1\n",
        " while i<maxx :\n",
        "  j=i\n",
        "  if Resheto[int((((i-5) // 6) << 1)+(1+numpy.sign(((i-5) % 6))))]!=False :\n",
        "   outfile.write(str(an)+';'+str(j)+'\\n')\n",
        "   an+=1\n",
        "   if j<maxs :\n",
        "    while j<maxx :\n",
        "     if ((j % 2)*(j % 3) != 0) :\n",
        "      Resheto[int((((j-5) // 6) << 1)+(1+numpy.sign(((j-5) % 6))))]=False\n",
        "     j+=i\n",
        "  i+=2\n",
        "  if (i % 3)==0 : i+=2\n",
        " outfile.close()\n",
        "print('Finish')\n",
        "#files.download('simple.txt')\n",
        "#end.\n",
        "te = datetime.datetime.now()\n",
        "print (te)\n",
        "delta = te - tb\n",
        "print (delta.seconds)"
      ],
      "execution_count": null,
      "outputs": [
        {
          "output_type": "stream",
          "text": [
            "Requirement already satisfied: bitarray in /usr/local/lib/python3.6/dist-packages (1.0.1)\n",
            "Write file...\n",
            "Finish\n",
            "2019-11-03 15:18:07.419024\n",
            "10595\n"
          ],
          "name": "stdout"
        }
      ]
    },
    {
      "cell_type": "code",
      "metadata": {
        "id": "m-YVWFRCjD85",
        "outputId": "0633ebad-1d8b-41b4-8570-190876280a35",
        "colab": {
          "base_uri": "https://localhost:8080/",
          "height": 34
        }
      },
      "source": [
        "#!cat simple.txt\n",
        "!zip -9 simple2.zip simple.csv\n"
      ],
      "execution_count": null,
      "outputs": [
        {
          "output_type": "stream",
          "text": [
            "  adding: simple.csv (deflated 75%)\n"
          ],
          "name": "stdout"
        }
      ]
    }
  ]
}