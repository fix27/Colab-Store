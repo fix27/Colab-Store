{
  "nbformat": 4,
  "nbformat_minor": 0,
  "metadata": {
    "colab": {
      "provenance": [],
      "authorship_tag": "ABX9TyN7sSQXZzC5Wc3otHYG5oCo",
      "include_colab_link": true
    },
    "kernelspec": {
      "name": "python3",
      "display_name": "Python 3"
    },
    "language_info": {
      "name": "python"
    }
  },
  "cells": [
    {
      "cell_type": "markdown",
      "metadata": {
        "id": "view-in-github",
        "colab_type": "text"
      },
      "source": [
        "<a href=\"https://colab.research.google.com/github/fix27/Colab-Store/blob/main/optimize_docx.ipynb\" target=\"_parent\"><img src=\"https://colab.research.google.com/assets/colab-badge.svg\" alt=\"Open In Colab\"/></a>"
      ]
    },
    {
      "cell_type": "code",
      "execution_count": 2,
      "metadata": {
        "colab": {
          "base_uri": "https://localhost:8080/"
        },
        "id": "eWcY5vjTWglh",
        "outputId": "3b541fc7-c532-4d4a-e50f-54af30861f9f"
      },
      "outputs": [
        {
          "output_type": "stream",
          "name": "stdout",
          "text": [
            "Файл успешно пересжат: example_optimized.docx\n"
          ]
        }
      ],
      "source": [
        "import zipfile\n",
        "import os\n",
        "import shutil\n",
        "\n",
        "def optimize_docx(file_path, output_path):\n",
        "    \"\"\"\n",
        "    Пересжимает .docx файл с максимальным уровнем сжатия.\n",
        "    \"\"\"\n",
        "    # Временная директория для распаковки файла\n",
        "    temp_dir = \"temp_docx\"\n",
        "\n",
        "    try:\n",
        "        # Создаём временную директорию\n",
        "        if not os.path.exists(temp_dir):\n",
        "            os.mkdir(temp_dir)\n",
        "\n",
        "        # Распаковываем исходный .docx файл\n",
        "        with zipfile.ZipFile(file_path, 'r') as zip_ref:\n",
        "            zip_ref.extractall(temp_dir)\n",
        "\n",
        "        # Пересжимаем содержимое с максимальным уровнем сжатия\n",
        "        with zipfile.ZipFile(output_path, 'w', compression=zipfile.ZIP_DEFLATED, compresslevel=9) as zip_ref:\n",
        "            for foldername, subfolders, filenames in os.walk(temp_dir):\n",
        "                for filename in filenames:\n",
        "                    file_full_path = os.path.join(foldername, filename)\n",
        "                    arcname = os.path.relpath(file_full_path, temp_dir)\n",
        "                    zip_ref.write(file_full_path, arcname)\n",
        "\n",
        "        print(f\"Файл успешно пересжат: {output_path}\")\n",
        "\n",
        "    except Exception as e:\n",
        "        print(f\"Ошибка: {e}\")\n",
        "\n",
        "    finally:\n",
        "        # Удаляем временную директорию\n",
        "        if os.path.exists(temp_dir):\n",
        "            shutil.rmtree(temp_dir)\n",
        "\n",
        "# Пример использования\n",
        "input_file = \"/content/example.docx\"  # Укажите путь к исходному файлу\n",
        "output_file = \"/content/example_optimized.docx\"  # Укажите путь для сжатого файла\n",
        "\n",
        "optimize_docx(input_file, output_file)"
      ]
    }
  ]
}