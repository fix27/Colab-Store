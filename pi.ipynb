{
  "nbformat": 4,
  "nbformat_minor": 0,
  "metadata": {
    "colab": {
      "name": "pi.ipynb",
      "provenance": [],
      "collapsed_sections": [],
      "authorship_tag": "ABX9TyOh4yxSFBrbEMrnPULRqQ3Q",
      "include_colab_link": true
    },
    "kernelspec": {
      "name": "python3",
      "display_name": "Python 3"
    }
  },
  "cells": [
    {
      "cell_type": "markdown",
      "metadata": {
        "id": "view-in-github",
        "colab_type": "text"
      },
      "source": [
        "<a href=\"https://colab.research.google.com/github/fix27/Colab-Store/blob/main/pi.ipynb\" target=\"_parent\"><img src=\"https://colab.research.google.com/assets/colab-badge.svg\" alt=\"Open In Colab\"/></a>"
      ]
    },
    {
      "cell_type": "code",
      "metadata": {
        "id": "fyzGwAM2s9WV",
        "outputId": "2723e04b-eb9a-4965-a705-f0a059b2d3d1",
        "colab": {
          "base_uri": "https://localhost:8080/"
        }
      },
      "source": [
        "import math\n",
        "c=100000000\n",
        "v=(c / 100)\n",
        "c=v * 100\n",
        "dx=2/c\n",
        "oldx=-1\n",
        "oldy=0\n",
        "x=-1.0+dx\n",
        "tpi=0.0\n",
        "for j in range(100):\n",
        "  Position=j\n",
        "  print(j,\"%\")\n",
        "  tt=0\n",
        "  if j==100 : \n",
        "    tt=1\n",
        "  for i in range(int( v-(tt)) ):\n",
        "    y = math.sqrt(1-x*x)\n",
        "    tpi=tpi+math.sqrt((oldx-x)*(oldx-x)+(oldy-y)*(oldy-y))\n",
        "    oldx=x\n",
        "    oldy=y \n",
        "    x=x+dx\n",
        "\n",
        "tpi=tpi+math.sqrt((oldx-1)*(oldx-1)+(oldy-0)*(oldy-0))\n",
        "\n",
        "print(tpi)"
      ],
      "execution_count": 1,
      "outputs": [
        {
          "output_type": "stream",
          "text": [
            "0 %\n",
            "1 %\n",
            "2 %\n",
            "3 %\n",
            "4 %\n",
            "5 %\n",
            "6 %\n",
            "7 %\n",
            "8 %\n",
            "9 %\n",
            "10 %\n",
            "11 %\n",
            "12 %\n",
            "13 %\n",
            "14 %\n",
            "15 %\n",
            "16 %\n",
            "17 %\n",
            "18 %\n",
            "19 %\n",
            "20 %\n",
            "21 %\n",
            "22 %\n",
            "23 %\n",
            "24 %\n",
            "25 %\n",
            "26 %\n",
            "27 %\n",
            "28 %\n",
            "29 %\n",
            "30 %\n",
            "31 %\n",
            "32 %\n",
            "33 %\n",
            "34 %\n",
            "35 %\n",
            "36 %\n",
            "37 %\n",
            "38 %\n",
            "39 %\n",
            "40 %\n",
            "41 %\n",
            "42 %\n",
            "43 %\n",
            "44 %\n",
            "45 %\n",
            "46 %\n",
            "47 %\n",
            "48 %\n",
            "49 %\n",
            "50 %\n",
            "51 %\n",
            "52 %\n",
            "53 %\n",
            "54 %\n",
            "55 %\n",
            "56 %\n",
            "57 %\n",
            "58 %\n",
            "59 %\n",
            "60 %\n",
            "61 %\n",
            "62 %\n",
            "63 %\n",
            "64 %\n",
            "65 %\n",
            "66 %\n",
            "67 %\n",
            "68 %\n",
            "69 %\n",
            "70 %\n",
            "71 %\n",
            "72 %\n",
            "73 %\n",
            "74 %\n",
            "75 %\n",
            "76 %\n",
            "77 %\n",
            "78 %\n",
            "79 %\n",
            "80 %\n",
            "81 %\n",
            "82 %\n",
            "83 %\n",
            "84 %\n",
            "85 %\n",
            "86 %\n",
            "87 %\n",
            "88 %\n",
            "89 %\n",
            "90 %\n",
            "91 %\n",
            "92 %\n",
            "93 %\n",
            "94 %\n",
            "95 %\n",
            "96 %\n",
            "97 %\n",
            "98 %\n",
            "99 %\n",
            "3.1415926535888996\n"
          ],
          "name": "stdout"
        }
      ]
    },
    {
      "cell_type": "markdown",
      "metadata": {
        "id": "Y-OEu5ABYuf2"
      },
      "source": [
        "3,1415926535 8979323846 2643383279"
      ]
    }
  ]
}