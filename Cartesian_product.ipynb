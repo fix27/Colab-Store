{
  "nbformat": 4,
  "nbformat_minor": 0,
  "metadata": {
    "colab": {
      "name": "Cartesian_product.ipynb",
      "provenance": [],
      "collapsed_sections": [],
      "authorship_tag": "ABX9TyN10zOefF580/6mBFKtjBhG",
      "include_colab_link": true
    },
    "kernelspec": {
      "name": "python3",
      "display_name": "Python 3"
    }
  },
  "cells": [
    {
      "cell_type": "markdown",
      "metadata": {
        "id": "view-in-github",
        "colab_type": "text"
      },
      "source": [
        "<a href=\"https://colab.research.google.com/github/fix27/Colab-Store/blob/main/Cartesian_product.ipynb\" target=\"_parent\"><img src=\"https://colab.research.google.com/assets/colab-badge.svg\" alt=\"Open In Colab\"/></a>"
      ]
    },
    {
      "cell_type": "code",
      "metadata": {
        "id": "0wT1buSlmoKR",
        "outputId": "4a36181d-997d-40f4-cacd-9d89dd9b4469",
        "colab": {
          "base_uri": "https://localhost:8080/"
        }
      },
      "source": [
        "#Cartesian_product Декартово (прямое) произведение множеств\n",
        "#ЕСЛИ / ТО. Почему мы используем эти слова неверно. Математика на QWERTY\n",
        "import itertools\n",
        "name=[\"Гоша\",\"Костик\",\"Юрик\"]\n",
        "specialty=[\"математик\",\"экономист\",\"Юрист\"]\n",
        "\n",
        "for i in \\\n",
        "  itertools.product([\"Гоша\"],specialty,[\"Костик\"],specialty,[\"Юрик\"],specialty):\n",
        " if ((i[1]!=\"математик\" or (i[1]==\"математик\" and i[5]!=\"экономист\")) \\\n",
        "  and (i[3]==\"экономист\" or (i[3]!=\"экономист\" and i[1]==\"математик\")) \\\n",
        "  and (i[5]==\"математик\" or (i[5]!=\"математик\" and i[3]==\"юрист\"))) \\\n",
        "  and not (i[1]==i[3] or i[3]==i[5] or i[1]==i[5]) :\n",
        "     print(i)"
      ],
      "execution_count": null,
      "outputs": [
        {
          "output_type": "stream",
          "text": [
            "('Гоша', 'Юрист', 'Костик', 'экономист', 'Юрик', 'математик')\n"
          ],
          "name": "stdout"
        }
      ]
    }
  ]
}