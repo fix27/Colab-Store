{
  "nbformat": 4,
  "nbformat_minor": 0,
  "metadata": {
    "colab": {
      "name": "FuctionExam.ipynb",
      "provenance": [],
      "collapsed_sections": [],
      "include_colab_link": true
    },
    "kernelspec": {
      "name": "python3",
      "display_name": "Python 3"
    }
  },
  "cells": [
    {
      "cell_type": "markdown",
      "metadata": {
        "id": "view-in-github",
        "colab_type": "text"
      },
      "source": [
        "<a href=\"https://colab.research.google.com/github/fix27/Colab-Store/blob/main/FuctionExam.ipynb\" target=\"_parent\"><img src=\"https://colab.research.google.com/assets/colab-badge.svg\" alt=\"Open In Colab\"/></a>"
      ]
    },
    {
      "cell_type": "code",
      "metadata": {
        "id": "X8crJFQChCzI",
        "outputId": "1b948ba6-c0e1-4560-a685-6fd0f72b619d",
        "colab": {
          "base_uri": "https://localhost:8080/",
          "height": 34
        }
      },
      "source": [
        "import random\n",
        "x=0\n",
        "for i in range(0,10000000):\n",
        "  if (( random.randint(0, 100)>80) or ( random.randint(0, 100)>70) or ( random.randint(0, 100)>70)):\n",
        "    x=x+1\n",
        "print(100*x/10000000)"
      ],
      "execution_count": null,
      "outputs": [
        {
          "output_type": "stream",
          "text": [
            "60.38186\n"
          ],
          "name": "stdout"
        }
      ]
    }
  ]
}