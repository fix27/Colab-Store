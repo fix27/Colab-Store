{
  "nbformat": 4,
  "nbformat_minor": 0,
  "metadata": {
    "colab": {
      "name": "scanning_remote_host.ipynb",
      "provenance": [],
      "collapsed_sections": [],
      "include_colab_link": true
    },
    "kernelspec": {
      "name": "python3",
      "display_name": "Python 3"
    }
  },
  "cells": [
    {
      "cell_type": "markdown",
      "metadata": {
        "id": "view-in-github",
        "colab_type": "text"
      },
      "source": [
        "<a href=\"https://colab.research.google.com/github/fix27/Colab-Store/blob/main/scanning_remote_host.ipynb\" target=\"_parent\"><img src=\"https://colab.research.google.com/assets/colab-badge.svg\" alt=\"Open In Colab\"/></a>"
      ]
    },
    {
      "cell_type": "code",
      "metadata": {
        "id": "sqCgk3wf_-N2",
        "outputId": "edd491cb-1372-46f0-df67-db045c21d44f",
        "colab": {
          "base_uri": "https://localhost:8080/",
          "height": 120
        }
      },
      "source": [
        "import socket\n",
        "import subprocess\n",
        "import sys\n",
        "from datetime import datetime\n",
        "\n",
        "# Clear the screen\n",
        "subprocess.call('clear', shell=True)\n",
        "\n",
        "# Ask for input\n",
        "remoteServer    = \"шокодил.рф\"\n",
        "remoteServerIP  = socket.gethostbyname(remoteServer)\n",
        "\n",
        "# Print a nice banner with information on which host we are about to scan\n",
        "print (\"-\" * 60)\n",
        "print (\"Please wait, scanning remote host\", remoteServerIP)\n",
        "print (\"-\" * 60)\n",
        "\n",
        "# Check what time the scan started\n",
        "t1 = datetime.now()\n",
        "\n",
        "# Using the range function to specify ports (here it will scans all ports between 1 and 1024)\n",
        "\n",
        "# We also put in some error handling for catching errors\n",
        "\n",
        "try:\n",
        "    for port in range(1,1025):  \n",
        "        sock = socket.socket(socket.AF_INET, socket.SOCK_STREAM)\n",
        "        result = sock.connect_ex((remoteServerIP, port))\n",
        "        if result == 0:\n",
        "            print (\"Port {}: \t Open\".format(port))\n",
        "        sock.close()\n",
        "\n",
        "except KeyboardInterrupt:\n",
        "    print (\"You pressed Ctrl+C\")\n",
        "    sys.exit()\n",
        "\n",
        "except socket.gaierror:\n",
        "    print ('Hostname could not be resolved. Exiting')\n",
        "    sys.exit()\n",
        "\n",
        "except socket.error:\n",
        "    print (\"Couldn't connect to server\")\n",
        "    sys.exit()\n",
        "\n",
        "# Checking the time again\n",
        "t2 = datetime.now()\n",
        "\n",
        "# Calculates the difference of time, to see how long it took to run the script\n",
        "total =  t2 - t1\n",
        "\n",
        "# Printing the information to screen\n",
        "print ('Scanning Completed in: ', total)"
      ],
      "execution_count": null,
      "outputs": [
        {
          "output_type": "stream",
          "text": [
            "------------------------------------------------------------\n",
            "Please wait, scanning remote host 178.132.201.54\n",
            "------------------------------------------------------------\n",
            "Port 80: \t Open\n",
            "Port 443: \t Open\n",
            "Scanning Completed in:  0:29:29.095790\n"
          ],
          "name": "stdout"
        }
      ]
    }
  ]
}