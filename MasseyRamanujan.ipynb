{
  "nbformat": 4,
  "nbformat_minor": 0,
  "metadata": {
    "colab": {
      "name": "MasseyRamanujan.ipynb",
      "provenance": [],
      "authorship_tag": "ABX9TyOqV9lSy/5qxCNDvpwgGDuN",
      "include_colab_link": true
    },
    "kernelspec": {
      "name": "python3",
      "display_name": "Python 3"
    }
  },
  "cells": [
    {
      "cell_type": "markdown",
      "metadata": {
        "id": "view-in-github",
        "colab_type": "text"
      },
      "source": [
        "<a href=\"https://colab.research.google.com/github/fix27/Colab-Store/blob/main/MasseyRamanujan.ipynb\" target=\"_parent\"><img src=\"https://colab.research.google.com/assets/colab-badge.svg\" alt=\"Open In Colab\"/></a>"
      ]
    },
    {
      "cell_type": "code",
      "metadata": {
        "colab": {
          "base_uri": "https://localhost:8080/",
          "height": 1000
        },
        "id": "mSlvoxBIt1lg",
        "outputId": "580eb1ff-802b-4573-bf81-6af27a0b4920"
      },
      "source": [
        "!git clone https://github.com/ShaharGottlieb/MasseyRamanujan.git\r\n",
        "%cd MasseyRamanujan\r\n",
        "!pip install -e ."
      ],
      "execution_count": 1,
      "outputs": [
        {
          "output_type": "stream",
          "text": [
            "Cloning into 'MasseyRamanujan'...\n",
            "remote: Enumerating objects: 1124, done.\u001b[K\n",
            "remote: Total 1124 (delta 0), reused 0 (delta 0), pack-reused 1124\u001b[K\n",
            "Receiving objects: 100% (1124/1124), 1005.05 KiB | 6.24 MiB/s, done.\n",
            "Resolving deltas: 100% (713/713), done.\n",
            "/content/MasseyRamanujan\n",
            "Obtaining file:///content/MasseyRamanujan\n",
            "Requirement already satisfied: cycler>=0.10.0 in /usr/local/lib/python3.6/dist-packages (from ramanujan==0.0.1) (0.10.0)\n",
            "Requirement already satisfied: kiwisolver>=1.1.0 in /usr/local/lib/python3.6/dist-packages (from ramanujan==0.0.1) (1.3.1)\n",
            "Requirement already satisfied: matplotlib>=3.2.0 in /usr/local/lib/python3.6/dist-packages (from ramanujan==0.0.1) (3.2.2)\n",
            "Requirement already satisfied: mpmath>=1.1.0 in /usr/local/lib/python3.6/dist-packages (from ramanujan==0.0.1) (1.1.0)\n",
            "Requirement already satisfied: numpy>=1.18.1 in /usr/local/lib/python3.6/dist-packages (from ramanujan==0.0.1) (1.19.5)\n",
            "Collecting ordered-set>=3.1.1\n",
            "  Downloading https://files.pythonhosted.org/packages/f5/ab/8252360bfe965bba31ec05112b3067bd129ce4800d89e0b85613bc6044f6/ordered-set-4.0.2.tar.gz\n",
            "Requirement already satisfied: pandas>=1.0.1 in /usr/local/lib/python3.6/dist-packages (from ramanujan==0.0.1) (1.1.5)\n",
            "Requirement already satisfied: protobuf>=3.11.3 in /usr/local/lib/python3.6/dist-packages (from ramanujan==0.0.1) (3.12.4)\n",
            "Collecting PyLaTeX>=1.3.1\n",
            "\u001b[?25l  Downloading https://files.pythonhosted.org/packages/8a/76/015a1d785221d9b0d2ad80759d892a6d9d0a8a05daffc52202311ea3d652/PyLaTeX-1.4.1.tar.gz (84kB)\n",
            "\u001b[K     |████████████████████████████████| 92kB 3.7MB/s \n",
            "\u001b[?25hRequirement already satisfied: pyparsing>=2.4.6 in /usr/local/lib/python3.6/dist-packages (from ramanujan==0.0.1) (2.4.7)\n",
            "Requirement already satisfied: python-dateutil>=2.8.1 in /usr/local/lib/python3.6/dist-packages (from ramanujan==0.0.1) (2.8.1)\n",
            "Collecting pytz>=2019.3\n",
            "\u001b[?25l  Downloading https://files.pythonhosted.org/packages/70/94/784178ca5dd892a98f113cdd923372024dc04b8d40abe77ca76b5fb90ca6/pytz-2021.1-py2.py3-none-any.whl (510kB)\n",
            "\u001b[K     |████████████████████████████████| 512kB 8.3MB/s \n",
            "\u001b[?25hRequirement already satisfied: six>=1.14.0 in /usr/local/lib/python3.6/dist-packages (from ramanujan==0.0.1) (1.15.0)\n",
            "Collecting sympy>=1.5.1\n",
            "\u001b[?25l  Downloading https://files.pythonhosted.org/packages/ff/69/b16fc81b939d3efdd0b552f2e3e54f7fa1423d0c320cced2e69e675dde26/sympy-1.7.1-py3-none-any.whl (5.9MB)\n",
            "\u001b[K     |████████████████████████████████| 5.9MB 10.1MB/s \n",
            "\u001b[?25hCollecting ortools>=7.4.7247\n",
            "\u001b[?25l  Downloading https://files.pythonhosted.org/packages/63/94/2832edee6f4fb4e77e8585b6034f9506be24361fe6ead4e76de38ab0a666/ortools-8.1.8487-cp36-cp36m-manylinux1_x86_64.whl (14.0MB)\n",
            "\u001b[K     |████████████████████████████████| 14.0MB 317kB/s \n",
            "\u001b[?25hCollecting pybloom-live\n",
            "  Downloading https://files.pythonhosted.org/packages/ea/43/93b606bc267ab48da54b3adcc18c4521ed2526312c7dd37958dde36bb7cc/pybloom_live-3.0.0.tar.gz\n",
            "Requirement already satisfied: setuptools in /usr/local/lib/python3.6/dist-packages (from protobuf>=3.11.3->ramanujan==0.0.1) (53.0.0)\n",
            "Collecting absl-py>=0.11\n",
            "\u001b[?25l  Downloading https://files.pythonhosted.org/packages/bc/58/0aa6fb779dc69cfc811df3398fcbeaeefbf18561b6e36b185df0782781cc/absl_py-0.11.0-py3-none-any.whl (127kB)\n",
            "\u001b[K     |████████████████████████████████| 133kB 39.3MB/s \n",
            "\u001b[?25hCollecting bitarray>=0.3.4\n",
            "\u001b[?25l  Downloading https://files.pythonhosted.org/packages/eb/98/7ed097e25cfbfda00ba59fe567d1c98c4241fb4925fc8cbf7106a5449bdf/bitarray-1.6.3.tar.gz (57kB)\n",
            "\u001b[K     |████████████████████████████████| 61kB 6.2MB/s \n",
            "\u001b[?25hBuilding wheels for collected packages: ordered-set, PyLaTeX, pybloom-live, bitarray\n",
            "  Building wheel for ordered-set (setup.py) ... \u001b[?25l\u001b[?25hdone\n",
            "  Created wheel for ordered-set: filename=ordered_set-4.0.2-py2.py3-none-any.whl size=8210 sha256=ed2c6ff90372ce2cdd0ac38cd9bbf520924484b88e96a2eb8d343a6d2d192485\n",
            "  Stored in directory: /root/.cache/pip/wheels/e1/c6/9b/651d8a21d59b51a75ab9c070838f9231b8126421bc0569af47\n",
            "  Building wheel for PyLaTeX (setup.py) ... \u001b[?25l\u001b[?25hdone\n",
            "  Created wheel for PyLaTeX: filename=PyLaTeX-1.4.1-cp36-none-any.whl size=42819 sha256=bdda895a7fe1b02defd415ebfa25fa122f06af777a4c747a34fccaaacab07539\n",
            "  Stored in directory: /root/.cache/pip/wheels/a2/25/3a/2cc0a6219d95ce34f1f7439a6427c62ca262ebaeb5969db89f\n",
            "  Building wheel for pybloom-live (setup.py) ... \u001b[?25l\u001b[?25hdone\n",
            "  Created wheel for pybloom-live: filename=pybloom_live-3.0.0-cp36-none-any.whl size=8345 sha256=5275ca7fb916c487bb8c1378e0becff29ce45289c8428d6868dc105d334ffc0b\n",
            "  Stored in directory: /root/.cache/pip/wheels/46/82/30/29f1691f49ac0d4ea9706f58cada5e3bbfe5558b09dbdbc8c5\n",
            "  Building wheel for bitarray (setup.py) ... \u001b[?25l\u001b[?25hdone\n",
            "  Created wheel for bitarray: filename=bitarray-1.6.3-cp36-cp36m-linux_x86_64.whl size=118962 sha256=35440b6decf3caee91f6c3a36e05f17853e3c2a1eb16965208cec285237bcf97\n",
            "  Stored in directory: /root/.cache/pip/wheels/13/24/95/e465c81652208d64cc3e7c3556a3a5b1d605f8637c8eda8a69\n",
            "Successfully built ordered-set PyLaTeX pybloom-live bitarray\n",
            "\u001b[31mERROR: tensorflow-metadata 0.27.0 has requirement absl-py<0.11,>=0.9, but you'll have absl-py 0.11.0 which is incompatible.\u001b[0m\n",
            "\u001b[31mERROR: ortools 8.1.8487 has requirement protobuf>=3.14.0, but you'll have protobuf 3.12.4 which is incompatible.\u001b[0m\n",
            "Installing collected packages: ordered-set, PyLaTeX, pytz, sympy, absl-py, ortools, bitarray, pybloom-live, ramanujan\n",
            "  Found existing installation: pytz 2018.9\n",
            "    Uninstalling pytz-2018.9:\n",
            "      Successfully uninstalled pytz-2018.9\n",
            "  Found existing installation: sympy 1.1.1\n",
            "    Uninstalling sympy-1.1.1:\n",
            "      Successfully uninstalled sympy-1.1.1\n",
            "  Found existing installation: absl-py 0.10.0\n",
            "    Uninstalling absl-py-0.10.0:\n",
            "      Successfully uninstalled absl-py-0.10.0\n",
            "  Running setup.py develop for ramanujan\n",
            "Successfully installed PyLaTeX-1.4.1 absl-py-0.11.0 bitarray-1.6.3 ordered-set-4.0.2 ortools-8.1.8487 pybloom-live-3.0.0 pytz-2021.1 ramanujan sympy-1.7.1\n"
          ],
          "name": "stdout"
        },
        {
          "output_type": "display_data",
          "data": {
            "application/vnd.colab-display-data+json": {
              "pip_warning": {
                "packages": [
                  "pytz"
                ]
              }
            }
          },
          "metadata": {
            "tags": []
          }
        }
      ]
    },
    {
      "cell_type": "code",
      "metadata": {
        "colab": {
          "base_uri": "https://localhost:8080/"
        },
        "id": "w8XfLheBuAeZ",
        "outputId": "7e7f3837-92ff-4158-f16f-f1c9882ea392"
      },
      "source": [
        " from ramanujan.LHSHashTable import LHSHashTable\r\n",
        " from ramanujan.constants import g_const_dict\r\n",
        "\r\n",
        " saved_hash = 'e_lhs_dept5'\r\n",
        " lhs_coefs_range = 5\r\n",
        " lhs = LHSHashTable(\r\n",
        "    saved_hash,\r\n",
        "    lhs_coefs_range,\r\n",
        "    [g_const_dict['e']])"
      ],
      "execution_count": 2,
      "outputs": [
        {
          "output_type": "stream",
          "text": [
            "no existing db found, generating dict\n",
            "initializing LHS dict: 0.1383826732635498\n"
          ],
          "name": "stdout"
        }
      ]
    },
    {
      "cell_type": "code",
      "metadata": {
        "id": "md3QeFTfuPOw"
      },
      "source": [
        "from ramanujan.poly_domains.CartesianProductPolyDomain import CartesianProductPolyDomain\r\n",
        " \r\n",
        "poly_search_domain = CartesianProductPolyDomain(\r\n",
        "   2, [-5, 5], # an coefs\r\n",
        "   2, [-5, 5]) # bn coef"
      ],
      "execution_count": 4,
      "outputs": []
    },
    {
      "cell_type": "code",
      "metadata": {
        "colab": {
          "base_uri": "https://localhost:8080/"
        },
        "id": "KCl2clrIubcD",
        "outputId": "b6c67a18-337f-420b-8a53-d101b0c4be50"
      },
      "source": [
        "from ramanujan.enumerators.EfficientGCFEnumerator import EfficientGCFEnumerator\r\n",
        "\r\n",
        "enumerator = EfficientGCFEnumerator(\r\n",
        "    lhs,\r\n",
        "    poly_search_domain,\r\n",
        "    [g_const_dict['e']]\r\n",
        "    )\r\n",
        "results = enumerator.full_execution()"
      ],
      "execution_count": 7,
      "outputs": [
        {
          "output_type": "stream",
          "text": [
            "starting preliminary search...\n",
            "created final enumerations filters after 0.015542030334472656s\n",
            "passed 100000 out of 729388 (13.71%). found so far 270 results\n",
            "passed 200000 out of 729388 (27.42%). found so far 531 results\n",
            "passed 300000 out of 729388 (41.13%). found so far 759 results\n",
            "passed 400000 out of 729388 (54.84%). found so far 967 results\n",
            "passed 500000 out of 729388 (68.55%). found so far 1206 results\n",
            "passed 600000 out of 729388 (82.26%). found so far 1474 results\n",
            "passed 700000 out of 729388 (95.97%). found so far 1721 results\n",
            "created results after 26.60841178894043s\n",
            "that took 26.624863862991333s\n",
            "starting to verify results...\n",
            "passed 50 permutations out of 1799. found so far 0 matches\n",
            "passed 100 permutations out of 1799. found so far 0 matches\n",
            "passed 150 permutations out of 1799. found so far 0 matches\n",
            "passed 200 permutations out of 1799. found so far 0 matches\n",
            "passed 250 permutations out of 1799. found so far 0 matches\n",
            "passed 300 permutations out of 1799. found so far 0 matches\n",
            "passed 350 permutations out of 1799. found so far 0 matches\n",
            "passed 400 permutations out of 1799. found so far 0 matches\n",
            "passed 450 permutations out of 1799. found so far 0 matches\n",
            "passed 500 permutations out of 1799. found so far 0 matches\n",
            "passed 550 permutations out of 1799. found so far 0 matches\n",
            "passed 600 permutations out of 1799. found so far 0 matches\n",
            "passed 650 permutations out of 1799. found so far 0 matches\n",
            "passed 700 permutations out of 1799. found so far 0 matches\n",
            "passed 750 permutations out of 1799. found so far 0 matches\n",
            "passed 800 permutations out of 1799. found so far 0 matches\n",
            "passed 850 permutations out of 1799. found so far 0 matches\n",
            "passed 900 permutations out of 1799. found so far 0 matches\n",
            "passed 950 permutations out of 1799. found so far 0 matches\n",
            "passed 1000 permutations out of 1799. found so far 0 matches\n",
            "passed 1050 permutations out of 1799. found so far 1 matches\n",
            "passed 1100 permutations out of 1799. found so far 1 matches\n",
            "passed 1150 permutations out of 1799. found so far 1 matches\n",
            "passed 1200 permutations out of 1799. found so far 1 matches\n",
            "passed 1250 permutations out of 1799. found so far 1 matches\n",
            "passed 1300 permutations out of 1799. found so far 1 matches\n",
            "passed 1350 permutations out of 1799. found so far 1 matches\n",
            "passed 1400 permutations out of 1799. found so far 1 matches\n",
            "passed 1450 permutations out of 1799. found so far 1 matches\n",
            "passed 1500 permutations out of 1799. found so far 1 matches\n",
            "passed 1550 permutations out of 1799. found so far 1 matches\n",
            "passed 1600 permutations out of 1799. found so far 1 matches\n",
            "passed 1650 permutations out of 1799. found so far 1 matches\n",
            "passed 1700 permutations out of 1799. found so far 1 matches\n",
            "passed 1750 permutations out of 1799. found so far 1 matches\n",
            "that took 0.034052133560180664s\n",
            "ℯ + 3                   2          \n",
            "────── = -2 + ─────────────────────\n",
            "-ℯ - 1                    6        \n",
            "              4 + ─────────────────\n",
            "                            12     \n",
            "                  18 + ────────────\n",
            "                               20  \n",
            "                       40 + ───────\n",
            "                                 30\n",
            "                            70 + ──\n",
            "                                 ..\n",
            "⎛          2                    2    ⎞\n",
            "⎝a(n) = 4⋅n  + 2⋅n - 2, b(n) = n  + n⎠\n",
            "\n",
            "Converged with a rate of 5.4846 digits per term\n"
          ],
          "name": "stdout"
        }
      ]
    }
  ]
}